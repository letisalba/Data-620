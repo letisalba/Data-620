{
 "cells": [
  {
   "cell_type": "markdown",
   "id": "a8bc49ba",
   "metadata": {},
   "source": [
    "### Data 620 - Project 2\n",
    "### Leticia Salazar\n",
    "### March 5, 2023"
   ]
  },
  {
   "cell_type": "markdown",
   "id": "44a52171",
   "metadata": {},
   "source": [
    "#### Task:\n",
    "\n",
    "1. Identify a large 2-node network dataset—you can start with a dataset in a repository.  Your data should meet the criteria that it consists of ties between and not within two (or more) distinct groups.\n",
    "2. Reduce the size of the network using a method such as the island method described in chapter 4 of social network analysis.\n",
    "3. What can you infer about each of the distinct groups?"
   ]
  },
  {
   "cell_type": "markdown",
   "id": "a68ca830",
   "metadata": {},
   "source": [
    "#### Data source:\n",
    "\n",
    "We decided to continue working with our project 1 dataset since it's a 2 node network to further explore the dataset and be able to create better visualizations. This dataset was obtained from [Network Repository](https://networkrepository.com/socfb-Cornell5.php) consisting of people (nodes) and their friendship ties (edges) on Facebook. The data is available in a matrix market, typically a sparse format used to represent a matrix (.mtx file). With these types of files, the first line contains a header with information about the matrix, dimensions, and symmetry of the matrix. The following lines are non-zero entries of the matrix in row-major order, with each following line containing the row index, column index, and a value of a single non-zero entry.\n",
    "\n",
    "Below are some specs from this dataset provided by the repository:\n",
    "\n",
    "* Nodes: 18.7K\n",
    "* Edges: 790.8K\n",
    "* Density: 0.00454239\n",
    "* Maximum degree: 3.2K\n",
    "* Minimum degree: 1\n",
    "* Average degree: 84\n",
    "* Assortativity: 0.01805\n",
    "* Number of triangles: 18.3M\n",
    "* Average number of triangles: 982\n",
    "* Maximum number of triangles: 77.2K\n",
    "* Average clustering coefficient: 0.219051\n",
    "* Fraction of closed triangles: 0.135615\n",
    "* Maximum k-core: 85\n",
    "* Lower bound of Maximum Clique: 13"
   ]
  },
  {
   "cell_type": "markdown",
   "id": "84a800ba",
   "metadata": {},
   "source": [
    "#### Load libraries:\n",
    "\n",
    "Below are the libraries used"
   ]
  },
  {
   "cell_type": "code",
   "execution_count": 2,
   "id": "a2b54110",
   "metadata": {},
   "outputs": [],
   "source": [
    "# data manipulation\n",
    "import pandas as pd\n",
    "import numpy as np\n",
    "import scipy.io #for mtx files\n",
    "from tqdm import tqdm #Instantly make your loops show a smart progress meter \n",
    "import random \n",
    "from scipy import stats\n",
    "\n",
    "# data visualization\n",
    "import networkx as nx\n",
    "import matplotlib.pyplot as plt\n",
    "from networkx_viewer import Viewer"
   ]
  },
  {
   "cell_type": "markdown",
   "id": "a20e0eec",
   "metadata": {},
   "source": [
    "#### Load the data:\n",
    "As mentioned, the original file had to be split to a smaller size containing 27000 variables only."
   ]
  },
  {
   "cell_type": "code",
   "execution_count": 6,
   "id": "e9923613",
   "metadata": {},
   "outputs": [
    {
     "name": "stdout",
     "output_type": "stream",
     "text": [
      "Graph with 11345 nodes and 27000 edges\n"
     ]
    },
    {
     "name": "stderr",
     "output_type": "stream",
     "text": [
      "/var/folders/xs/s7qlj6l16qj7704tpbyx6rr80000gn/T/ipykernel_26363/235781926.py:2: DeprecationWarning: info is deprecated and will be removed in version 3.0.\n",
      "\n",
      "  print(nx.info(fb))\n"
     ]
    }
   ],
   "source": [
    "fb = nx.read_edgelist(\"facebook_comb_split2.txt\", create_using = nx.Graph(), nodetype=int)\n",
    "print(nx.info(fb))"
   ]
  },
  {
   "cell_type": "code",
   "execution_count": null,
   "id": "586d57da",
   "metadata": {},
   "outputs": [],
   "source": []
  },
  {
   "cell_type": "code",
   "execution_count": null,
   "id": "13ca2518",
   "metadata": {},
   "outputs": [],
   "source": []
  },
  {
   "cell_type": "code",
   "execution_count": null,
   "id": "3d91fe1b",
   "metadata": {},
   "outputs": [],
   "source": []
  },
  {
   "cell_type": "code",
   "execution_count": null,
   "id": "7694415a",
   "metadata": {},
   "outputs": [],
   "source": []
  },
  {
   "cell_type": "code",
   "execution_count": null,
   "id": "7190e44e",
   "metadata": {},
   "outputs": [],
   "source": []
  },
  {
   "cell_type": "code",
   "execution_count": null,
   "id": "4ff8a57a",
   "metadata": {},
   "outputs": [],
   "source": []
  },
  {
   "cell_type": "code",
   "execution_count": null,
   "id": "a95bf52c",
   "metadata": {},
   "outputs": [],
   "source": []
  },
  {
   "cell_type": "code",
   "execution_count": null,
   "id": "b8a010f5",
   "metadata": {},
   "outputs": [],
   "source": []
  },
  {
   "cell_type": "code",
   "execution_count": null,
   "id": "232bf68d",
   "metadata": {},
   "outputs": [],
   "source": []
  },
  {
   "cell_type": "code",
   "execution_count": null,
   "id": "fbac18bb",
   "metadata": {},
   "outputs": [],
   "source": []
  },
  {
   "cell_type": "code",
   "execution_count": null,
   "id": "1a75aee9",
   "metadata": {},
   "outputs": [],
   "source": []
  },
  {
   "cell_type": "code",
   "execution_count": null,
   "id": "8c036ea5",
   "metadata": {},
   "outputs": [],
   "source": []
  }
 ],
 "metadata": {
  "kernelspec": {
   "display_name": "Python 3 (ipykernel)",
   "language": "python",
   "name": "python3"
  },
  "language_info": {
   "codemirror_mode": {
    "name": "ipython",
    "version": 3
   },
   "file_extension": ".py",
   "mimetype": "text/x-python",
   "name": "python",
   "nbconvert_exporter": "python",
   "pygments_lexer": "ipython3",
   "version": "3.9.13"
  }
 },
 "nbformat": 4,
 "nbformat_minor": 5
}
