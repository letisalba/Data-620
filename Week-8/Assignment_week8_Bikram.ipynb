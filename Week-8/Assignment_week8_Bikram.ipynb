{
 "cells": [
  {
   "cell_type": "code",
   "execution_count": null,
   "id": "c77ca240",
   "metadata": {},
   "outputs": [],
   "source": []
  },
  {
   "cell_type": "code",
   "execution_count": 4,
   "id": "5b269ab2",
   "metadata": {},
   "outputs": [],
   "source": [
    "import nltk\n",
    "from nltk.corpus import reuters\n",
    "from nltk.corpus import wordnet\n",
    " \n",
    "reuters_words = [w.lower() for w in reuters.words()]\n",
    "words = set(reuters_words)\n",
    "counts = [(w, reuters_words.count(w)) for w in words]\n",
    "\n",
    "fivek_array=[(w, c) for (w, c) in counts if c > 1000]"
   ]
  },
  {
   "cell_type": "code",
   "execution_count": 5,
   "id": "139b2bdf",
   "metadata": {},
   "outputs": [
    {
     "name": "stdout",
     "output_type": "stream",
     "text": [
      "31078\n"
     ]
    }
   ],
   "source": [
    "# Unique words in the corpus\n",
    "print(len(words))"
   ]
  },
  {
   "cell_type": "code",
   "execution_count": 47,
   "id": "6f052b7e",
   "metadata": {},
   "outputs": [
    {
     "name": "stdout",
     "output_type": "stream",
     "text": [
      "104\n"
     ]
    }
   ],
   "source": [
    "# Number of words with 5k occurences\n",
    "print(len(fivek_array))"
   ]
  },
  {
   "cell_type": "code",
   "execution_count": 48,
   "id": "0b79bf22",
   "metadata": {},
   "outputs": [
    {
     "name": "stdout",
     "output_type": "stream",
     "text": [
      "[('9', 2864), ('been', 2070), ('share', 3160), ('one', 2963), ('in', 29253), ('6', 3376), ('be', 6357), ('they', 2595), ('8', 3218), ('000', 10277), ('inc', 4121), ('pct', 9810), ('s', 15680), ('mln', 18623), ('its', 7402), ('bank', 3654), ('a', 25103), ('this', 3516), ('will', 5952), ('and', 25648), ('with', 6179), ('that', 7540), ('u', 6392), ('also', 2532), ('it', 11104), ('1986', 4392), ('market', 2811), ('shares', 2652), ('were', 3092), ('as', 4575), ('would', 4673), ('0', 2928), ('but', 3601), ('are', 3215), ('year', 7529), ('last', 3243), ('the', 69277), (\"'\", 11272), ('1987', 2396), ('lt', 8696), ('vs', 14341), ('4', 4363), (';', 8762), ('tonnes', 2511), ('or', 3248), ('3', 5091), ('about', 2814), ('shr', 4182), ('(', 2840), ('net', 6989), ('company', 4670), ('which', 3666), ('to', 36400), ('march', 2052), ('/', 4495), ('oil', 3272), ('was', 5816), ('sales', 2217), (')', 2005), (',', 72360), ('on', 9244), ('billion', 5829), ('new', 2716), ('said', 25383), ('prices', 2195), ('5', 4683), ('revs', 2312), ('trade', 3098), ('\"', 6816), ('2', 6528), ('after', 2022), ('1', 9977), ('.', 94687), ('dlrs', 12417), ('qtr', 2674), ('for', 13782), ('has', 4864), ('up', 2307), ('>', 7449), ('had', 2975), ('is', 7668), ('group', 2112), ('april', 2051), ('may', 2131), ('an', 4557), ('10', 2381), ('7', 3450), (',\"', 3397), ('loss', 5124), ('cts', 8361), ('he', 5215), ('profit', 2960), ('two', 2665), ('&', 8698), ('at', 7017), ('have', 3107), ('by', 7101), ('-', 13705), ('stock', 2629), ('of', 36779), ('not', 4389), ('corp', 3399), ('per', 2101), ('from', 8217)]\n"
     ]
    }
   ],
   "source": [
    "print(fivek_array)"
   ]
  },
  {
   "cell_type": "code",
   "execution_count": 10,
   "id": "e35304cf",
   "metadata": {},
   "outputs": [],
   "source": [
    "\n",
    "#Importing the libraries\n",
    "import numpy as np\n",
    "import pandas as pd\n",
    "import matplotlib.pyplot as plt\n",
    "import seaborn as sns\n",
    "#Importing the String module\n",
    "import string\n",
    "from nltk import FreqDist\n",
    "\n",
    "\n",
    "def plot_word_frequency(words,top_n=10):\n",
    "    \"\"\"Function to plot the word frequencies\"\"\"\n",
    "    word_freq = FreqDist(words)\n",
    "    labels = [element[0] for element in word_freq.most_common(top_n)]\n",
    "    counts = [element[1] for element in word_freq.most_common(top_n)]\n",
    "    plt.figure(figsize=(15,5))\n",
    "    plt.title(\"Most Frequent Words in the Corpus\")\n",
    "    plt.ylabel(\"Count\")\n",
    "    plt.xlabel(\"Word\")\n",
    "    plot = sns.barplot(labels,counts)\n",
    "    return plot"
   ]
  },
  {
   "cell_type": "code",
   "execution_count": null,
   "id": "5f1b3877",
   "metadata": {},
   "outputs": [],
   "source": []
  },
  {
   "cell_type": "code",
   "execution_count": 15,
   "id": "797a130f",
   "metadata": {},
   "outputs": [],
   "source": [
    "def column(matrix, i):\n",
    "    return [row[i] for row in matrix]\n",
    "\n",
    "w = column(fivek_array, 0)\n",
    "c = column(fivek_array, 1)"
   ]
  },
  {
   "cell_type": "code",
   "execution_count": 17,
   "id": "8bb17257",
   "metadata": {},
   "outputs": [
    {
     "name": "stderr",
     "output_type": "stream",
     "text": [
      "C:\\Anaconda3\\lib\\site-packages\\seaborn\\_decorators.py:36: FutureWarning: Pass the following variables as keyword args: x, y. From version 0.12, the only valid positional argument will be `data`, and passing other arguments without an explicit keyword will result in an error or misinterpretation.\n",
      "  warnings.warn(\n"
     ]
    },
    {
     "data": {
      "text/plain": [
       "<AxesSubplot:title={'center':'Most Frequent Words in the Corpus'}, xlabel='Word', ylabel='Count'>"
      ]
     },
     "execution_count": 17,
     "metadata": {},
     "output_type": "execute_result"
    },
    {
     "data": {
      "image/png": "[encoded data removed]",
      "text/plain": [
       "<Figure size 1080x360 with 1 Axes>"
      ]
     },
     "metadata": {
      "needs_background": "light"
     },
     "output_type": "display_data"
    }
   ],
   "source": [
    "plot_word_frequency(reuters_words,20)"
   ]
  },
  {
   "cell_type": "markdown",
   "id": "e8ac68ca",
   "metadata": {},
   "source": [
    "Lets tokenize the corpus and remove stopwords and special characters"
   ]
  },
  {
   "cell_type": "code",
   "execution_count": 20,
   "id": "213b8c5f",
   "metadata": {},
   "outputs": [],
   "source": [
    "import re\n",
    "\n",
    "wpt = nltk.WordPunctTokenizer()\n",
    "stop_words = nltk.corpus.stopwords.words('english')\n",
    "\n",
    "\n",
    "def normalize_document(doc):\n",
    "    # lowercase and remove special characters\\whitespace\n",
    "    doc = re.sub(r'[^a-zA-Z\\s]', '', doc, re.I|re.A)\n",
    "    doc = doc.lower()\n",
    "    doc = doc.strip()\n",
    "    # tokenize document\n",
    "    tokens = wpt.tokenize(doc)\n",
    "    # filter stopwords out of document\n",
    "    filtered_tokens = [token for token in tokens if token not in stop_words]\n",
    "    # re-create document from filtered tokens\n",
    "    doc = ' '.join(filtered_tokens)\n",
    "    return doc\n",
    "\n",
    "\n",
    "normalize_corpus = np.vectorize(normalize_document)"
   ]
  },
  {
   "cell_type": "code",
   "execution_count": 21,
   "id": "5a010c45",
   "metadata": {},
   "outputs": [
    {
     "data": {
      "text/plain": [
       "array(['asian', 'exporters', 'fear', ..., '', '', 'mln'], dtype='<U24')"
      ]
     },
     "execution_count": 21,
     "metadata": {},
     "output_type": "execute_result"
    }
   ],
   "source": [
    "norm_corpus = normalize_corpus(reuters_words)\n",
    "norm_corpus"
   ]
  },
  {
   "cell_type": "code",
   "execution_count": 22,
   "id": "acac0e58",
   "metadata": {},
   "outputs": [
    {
     "name": "stdout",
     "output_type": "stream",
     "text": [
      "1720901\n"
     ]
    }
   ],
   "source": [
    "print(len(norm_corpus))"
   ]
  },
  {
   "cell_type": "code",
   "execution_count": 23,
   "id": "c00e7a3c",
   "metadata": {},
   "outputs": [
    {
     "name": "stderr",
     "output_type": "stream",
     "text": [
      "C:\\Anaconda3\\lib\\site-packages\\seaborn\\_decorators.py:36: FutureWarning: Pass the following variables as keyword args: x, y. From version 0.12, the only valid positional argument will be `data`, and passing other arguments without an explicit keyword will result in an error or misinterpretation.\n",
      "  warnings.warn(\n"
     ]
    },
    {
     "data": {
      "text/plain": [
       "<AxesSubplot:title={'center':'Most Frequent Words in the Corpus'}, xlabel='Word', ylabel='Count'>"
      ]
     },
     "execution_count": 23,
     "metadata": {},
     "output_type": "execute_result"
    },
    {
     "data": {
      "image/png": "[encoded data removed]",
      "text/plain": [
       "<Figure size 1080x360 with 1 Axes>"
      ]
     },
     "metadata": {
      "needs_background": "light"
     },
     "output_type": "display_data"
    }
   ],
   "source": [
    "plot_word_frequency(norm_corpus,20)"
   ]
  },
  {
   "cell_type": "markdown",
   "id": "abf770b5",
   "metadata": {},
   "source": [
    "We can now see the most frequent words of the corpus after removing stopwords.\n",
    "Above are 20 most frequent words"
   ]
  },
  {
   "cell_type": "code",
   "execution_count": 24,
   "id": "b0b0b969",
   "metadata": {},
   "outputs": [],
   "source": [
    "#Creating a FreqDist object\n",
    "fd=FreqDist()"
   ]
  },
  {
   "cell_type": "code",
   "execution_count": 25,
   "id": "e43e99d0",
   "metadata": {},
   "outputs": [],
   "source": [
    "#Creating ranks and frequencies\n",
    "ranks = []\n",
    "freqs = []\n",
    "for i in norm_corpus:\n",
    "    fd[i] +=1\n",
    "for rank,word in enumerate(fd):\n",
    "    ranks.append(rank+1)\n",
    "    freqs.append(fd[word])"
   ]
  },
  {
   "cell_type": "code",
   "execution_count": 26,
   "id": "468d4935",
   "metadata": {},
   "outputs": [
    {
     "data": {
      "image/png": "[encoded data removed]",
      "text/plain": [
       "<Figure size 1440x504 with 1 Axes>"
      ]
     },
     "metadata": {
      "needs_background": "light"
     },
     "output_type": "display_data"
    }
   ],
   "source": [
    "#Plotting the distribution\n",
    "plt.figure(figsize=(20,7))\n",
    "plt.loglog(freqs,ranks)\n",
    "plt.xlabel('Rank')\n",
    "plt.ylabel('Frequency')\n",
    "plt.title(\"Zipf's Distribution\")\n",
    "plt.show()"
   ]
  },
  {
   "cell_type": "code",
   "execution_count": null,
   "id": "e3bda07c",
   "metadata": {},
   "outputs": [],
   "source": []
  },
  {
   "cell_type": "markdown",
   "id": "65361872",
   "metadata": {},
   "source": [
    "Ref: https://dzone.com/articles/exploring-zipf%E2%80%99s-law-python"
   ]
  },
  {
   "cell_type": "code",
   "execution_count": null,
   "id": "72964ed0",
   "metadata": {},
   "outputs": [],
   "source": []
  },
  {
   "cell_type": "markdown",
   "id": "72b09046",
   "metadata": {},
   "source": []
  },
  {
   "cell_type": "code",
   "execution_count": null,
   "id": "554bfc44",
   "metadata": {},
   "outputs": [],
   "source": []
  },
  {
   "cell_type": "code",
   "execution_count": null,
   "id": "22e333dd",
   "metadata": {},
   "outputs": [],
   "source": []
  },
  {
   "cell_type": "code",
   "execution_count": null,
   "id": "7ef3caf9",
   "metadata": {},
   "outputs": [],
   "source": []
  }
 ],
 "metadata": {
  "kernelspec": {
   "display_name": "Python 3 (ipykernel)",
   "language": "python",
   "name": "python3"
  },
  "language_info": {
   "codemirror_mode": {
    "name": "ipython",
    "version": 3
   },
   "file_extension": ".py",
   "mimetype": "text/x-python",
   "name": "python",
   "nbconvert_exporter": "python",
   "pygments_lexer": "ipython3",
   "version": "3.9.12"
  }
 },
 "nbformat": 4,
 "nbformat_minor": 5
}
