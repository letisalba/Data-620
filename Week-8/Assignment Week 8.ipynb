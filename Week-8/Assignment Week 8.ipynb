{
 "cells": [
  {
   "cell_type": "markdown",
   "id": "ef012e58",
   "metadata": {},
   "source": [
    "### Data 620 - Week 8 Assignment \n",
    "### Bikram Barua and Leticia Salazar\n",
    "### March 19, 2023"
   ]
  },
  {
   "cell_type": "markdown",
   "id": "023d9997",
   "metadata": {},
   "source": [
    "#### Task:\n",
    "\n",
    "Please answer the following questions in an IPython Notebook, posted to GitHub:\n",
    "\n",
    "1. Choose a corpus of interest.\n",
    "2. How many total unique words are in the corpus? (Please feel free to define unique words in any interesting, defensible way).\n",
    "3. Taking the most common words, how many unique words represent half of the total words in the corpus?\n",
    "4. Identify the 200 highest frequency words in this corpus.\n",
    "5. Create a graph that shows the relative frequency of these 200 words.\n",
    "6. Does the observed relative frequency of these words follow Zipf’s law? Explain.\n",
    "7. In what ways do you think the frequency of the words in this corpus differ from “all words in all corpora.”"
   ]
  },
  {
   "cell_type": "code",
   "execution_count": null,
   "id": "5f181253",
   "metadata": {},
   "outputs": [],
   "source": []
  }
 ],
 "metadata": {
  "kernelspec": {
   "display_name": "Python 3 (ipykernel)",
   "language": "python",
   "name": "python3"
  },
  "language_info": {
   "codemirror_mode": {
    "name": "ipython",
    "version": 3
   },
   "file_extension": ".py",
   "mimetype": "text/x-python",
   "name": "python",
   "nbconvert_exporter": "python",
   "pygments_lexer": "ipython3",
   "version": "3.9.13"
  }
 },
 "nbformat": 4,
 "nbformat_minor": 5
}
