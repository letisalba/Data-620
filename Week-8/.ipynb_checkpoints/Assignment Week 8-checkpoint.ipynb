{
 "cells": [
  {
   "cell_type": "markdown",
   "id": "ef012e58",
   "metadata": {},
   "source": [
    "### Data 620 - Week 8 Assignment \n",
    "### Bikram Barua and Leticia Salazar\n",
    "### March 19, 2023"
   ]
  },
  {
   "cell_type": "markdown",
   "id": "023d9997",
   "metadata": {},
   "source": [
    "### Task:\n",
    "\n",
    "Please answer the following questions in an IPython Notebook, posted to GitHub:\n",
    "\n",
    "1. Choose a corpus of interest.\n",
    "2. How many total unique words are in the corpus? (Please feel free to define unique words in any interesting, defensible way).\n",
    "3. Taking the most common words, how many unique words represent half of the total words in the corpus?\n",
    "4. Identify the 200 highest frequency words in this corpus.\n",
    "5. Create a graph that shows the relative frequency of these 200 words.\n",
    "6. Does the observed relative frequency of these words follow Zipf’s law? Explain.\n",
    "7. In what ways do you think the frequency of the words in this corpus differ from “all words in all corpora.”"
   ]
  },
  {
   "cell_type": "markdown",
   "id": "5e36b1af",
   "metadata": {},
   "source": [
    "#### Import Libraries\n",
    "\n",
    "Below are the libraies we will be using for this assignment."
   ]
  },
  {
   "cell_type": "code",
   "execution_count": 1,
   "id": "5f181253",
   "metadata": {},
   "outputs": [],
   "source": [
    "import warnings\n",
    "warnings.filterwarnings('ignore')\n",
    "\n",
    "import numpy as np\n",
    "import pandas as pd\n",
    "import matplotlib.pyplot as plt\n",
    "import nltk\n",
    "import nltk.corpus\n",
    "from nltk.corpus import stopwords\n",
    "from bs4 import BeautifulSoup as bs\n",
    "import seaborn as sns\n",
    "#import plotly.express as px"
   ]
  },
  {
   "cell_type": "markdown",
   "id": "ff4ad1f1",
   "metadata": {},
   "source": [
    "### Corpus of Interest:\n",
    "\n",
    "The corpus of interest for this assignment was picked from the NLTK library called `The Inaugural Address`. First we import the NLTK book and view which text would the inaugural address be. We see it's in text4 and proceed to download it. "
   ]
  },
  {
   "cell_type": "code",
   "execution_count": 2,
   "id": "55f74e4f",
   "metadata": {
    "scrolled": true
   },
   "outputs": [
    {
     "name": "stdout",
     "output_type": "stream",
     "text": [
      "*** Introductory Examples for the NLTK Book ***\n",
      "Loading text1, ..., text9 and sent1, ..., sent9\n",
      "Type the name of the text or sentence to view it.\n",
      "Type: 'texts()' or 'sents()' to list the materials.\n",
      "text1: Moby Dick by Herman Melville 1851\n",
      "text2: Sense and Sensibility by Jane Austen 1811\n",
      "text3: The Book of Genesis\n",
      "text4: Inaugural Address Corpus\n",
      "text5: Chat Corpus\n",
      "text6: Monty Python and the Holy Grail\n",
      "text7: Wall Street Journal\n",
      "text8: Personals Corpus\n",
      "text9: The Man Who Was Thursday by G . K . Chesterton 1908\n"
     ]
    }
   ],
   "source": [
    "# importing NLTK book\n",
    "from nltk.book import *"
   ]
  },
  {
   "cell_type": "code",
   "execution_count": 3,
   "id": "e79124ce",
   "metadata": {},
   "outputs": [
    {
     "name": "stderr",
     "output_type": "stream",
     "text": [
      "[nltk_data] Downloading package inaugural to\n",
      "[nltk_data]     /Users/letisalba/nltk_data...\n",
      "[nltk_data]   Package inaugural is already up-to-date!\n"
     ]
    },
    {
     "data": {
      "text/plain": [
       "True"
      ]
     },
     "execution_count": 3,
     "metadata": {},
     "output_type": "execute_result"
    }
   ],
   "source": [
    "# downloading the inaugural address corpus:\n",
    "#from nltk.corpus import inaugural\n",
    "nltk.download('inaugural')"
   ]
  },
  {
   "cell_type": "markdown",
   "id": "aab97d72",
   "metadata": {},
   "source": [
    "Let's dig into what inaugural addresses are there in text4. We notice we have about 60 texts in this file. We can analyze the 1821 Monroe address and the 2021 Biden address to check how much these speeches have changed in 200 years."
   ]
  },
  {
   "cell_type": "code",
   "execution_count": 4,
   "id": "ad3013f9",
   "metadata": {
    "scrolled": false
   },
   "outputs": [
    {
     "data": {
      "text/plain": [
       "['1789-Washington.txt',\n",
       " '1793-Washington.txt',\n",
       " '1797-Adams.txt',\n",
       " '1801-Jefferson.txt',\n",
       " '1805-Jefferson.txt',\n",
       " '1809-Madison.txt',\n",
       " '1813-Madison.txt',\n",
       " '1817-Monroe.txt',\n",
       " '1821-Monroe.txt',\n",
       " '1825-Adams.txt',\n",
       " '1829-Jackson.txt',\n",
       " '1833-Jackson.txt',\n",
       " '1837-VanBuren.txt',\n",
       " '1841-Harrison.txt',\n",
       " '1845-Polk.txt',\n",
       " '1849-Taylor.txt',\n",
       " '1853-Pierce.txt',\n",
       " '1857-Buchanan.txt',\n",
       " '1861-Lincoln.txt',\n",
       " '1865-Lincoln.txt',\n",
       " '1869-Grant.txt',\n",
       " '1873-Grant.txt',\n",
       " '1877-Hayes.txt',\n",
       " '1881-Garfield.txt',\n",
       " '1885-Cleveland.txt',\n",
       " '1889-Harrison.txt',\n",
       " '1893-Cleveland.txt',\n",
       " '1897-McKinley.txt',\n",
       " '1901-McKinley.txt',\n",
       " '1905-Roosevelt.txt',\n",
       " '1909-Taft.txt',\n",
       " '1913-Wilson.txt',\n",
       " '1917-Wilson.txt',\n",
       " '1921-Harding.txt',\n",
       " '1925-Coolidge.txt',\n",
       " '1929-Hoover.txt',\n",
       " '1933-Roosevelt.txt',\n",
       " '1937-Roosevelt.txt',\n",
       " '1941-Roosevelt.txt',\n",
       " '1945-Roosevelt.txt',\n",
       " '1949-Truman.txt',\n",
       " '1953-Eisenhower.txt',\n",
       " '1957-Eisenhower.txt',\n",
       " '1961-Kennedy.txt',\n",
       " '1965-Johnson.txt',\n",
       " '1969-Nixon.txt',\n",
       " '1973-Nixon.txt',\n",
       " '1977-Carter.txt',\n",
       " '1981-Reagan.txt',\n",
       " '1985-Reagan.txt',\n",
       " '1989-Bush.txt',\n",
       " '1993-Clinton.txt',\n",
       " '1997-Clinton.txt',\n",
       " '2001-Bush.txt',\n",
       " '2005-Bush.txt',\n",
       " '2009-Obama.txt',\n",
       " '2013-Obama.txt',\n",
       " '2017-Trump.txt',\n",
       " '2021-Biden.txt']"
      ]
     },
     "execution_count": 4,
     "metadata": {},
     "output_type": "execute_result"
    }
   ],
   "source": [
    "# getting the texts available in this corpus\n",
    "nltk.corpus.inaugural.fileids()"
   ]
  },
  {
   "cell_type": "markdown",
   "id": "4f30cae5",
   "metadata": {},
   "source": [
    "Let's dig into the 1821 Monroe inaugural address; we can view the complete text, in words, in sentences, or in paragraphs"
   ]
  },
  {
   "cell_type": "code",
   "execution_count": 5,
   "id": "60ce9fed",
   "metadata": {
    "scrolled": false
   },
   "outputs": [
    {
     "data": {
      "text/plain": [
       "\"Fellow citizens, I shall not attempt to describe the grateful emotions which the new and very distinguished proof of the confidence of my fellow citizens, evinced by my reelection to this high trust, has excited in my bosom. The approbation which it announces of my conduct in the preceding term affords me a consolation which I shall profoundly feel through life. The general accord with which it has been expressed adds to the great and never-ceasing obligations which it imposes. To merit the continuance of this good opinion, and to carry it with me into my retirement as the solace of advancing years, will be the object of my most zealous and unceasing efforts.\\n\\nHaving no pretensions to the high and commanding claims of my predecessors, whose names are so much more conspicuously identified with our Revolution, and who contributed so preeminently to promote its success, I consider myself rather as the instrument than the cause of the union which has prevailed in the late election In surmounting, in favor of my humble pretensions, the difficulties which so often produce division in like occurrences, it is obvious that other powerful causes, indicating the great strength and stability of our Union, have essentially contributed to draw you together. That these powerful causes exist, and that they are permanent, is my fixed opinion; that they may produce a like accord in all questions touching, however remotely, the liberty, prosperity and happiness of our country will always be the object of my most fervent prayers to the Supreme Author of All Good.\\n\\nIn a government which is founded by the people, who possess exclusively the sovereignty, it seems proper that the person who may be placed by their suffrages in this high trust should declare on commencing its duties the principles on which he intends to conduct the Administration. If the person thus elected has served the preceding term, an opportunity is afforded him to review its principal occurrences and to give such further explanation respecting them as in his judgment may be useful to his constituents. The events of one year have influence on those of another, and, in like manner, of a preceding on the succeeding Administration. The movements of a great nation are connected in all their parts. If errors have been committed they ought to be corrected; if the policy is sound it ought to be supported. It is by a thorough knowledge of the whole subject that our fellow citizens are enabled to judge correctly of the past and to give a proper direction to the future.\\n\\nJust before the commencement of the last term the United States had concluded a war with a very powerful nation on conditions equal and honorable to both parties. The events of that war are too recent and too deeply impressed on the memory of all to require a development from me. Our commerce had been in a great measure driven from the sea, our Atlantic and inland frontiers were invaded in almost every part; the waste of life along our coast and on some parts of our inland frontiers, to the defense of which our gallant and patriotic citizens were called, was immense, in addition to which not less than $120,000,000 were added at its end to the public debt.\\n\\nAs soon as the war had terminated, the nation, admonished by its events, resolved to place itself in a situation which should be better calculated to prevent the recurrence of a like evil, and, in case it should recur, to mitigate its calamities. With this view, after reducing our land force to the basis of a peace establishment, which has been further modified since, provision was made for the construction of fortifications at proper points through the whole extent of our coast and such an augmentation of our naval force as should be well adapted to both purposes. The laws making this provision were passed in 1815 and 1816, and it has been since the constant effort of the Executive to carry them into effect.\\n\\nThe advantage of these fortifications and of an augmented naval force in the extent contemplated, in a point of economy, has been fully illustrated by a report of the Board of Engineers and Naval Commissioners lately communicated to Congress, by which it appears that in an invasion by 20,000 men, with a correspondent naval force, in a campaign of six months only, the whole expense of the construction of the works would be defrayed by the difference in the sum necessary to maintain the force which would be adequate to our defense with the aid of those works and that which would be incurred without them. The reason of this difference is obvious. If fortifications are judiciously placed on our great inlets, as distant from our cities as circumstances will permit, they will form the only points of attack, and the enemy will be detained there by a small regular force a sufficient time to enable our militia to collect and repair to that on which the attack is made. A force adequate to the enemy, collected at that single point, with suitable preparation for such others as might be menaced, is all that would be requisite. But if there were no fortifications, then the enemy might go where he pleased, and, changing his position and sailing from place to place, our force must be called out and spread in vast numbers along the whole coast and on both sides of every bay and river as high up in each as it might be navigable for ships of war. By these fortifications, supported by our Navy, to which they would afford like support, we should present to other powers an armed front from St. Croix to the Sabine, which would protect in the event of war our whole coast and interior from invasion; and even in the wars of other powers, in which we were neutral, they would be found eminently useful, as, by keeping their public ships at a distance from our cities, peace and order in them would be preserved and the Government be protected from insult.\\n\\nIt need scarcely be remarked that these measures have not been resorted to in a spirit of hostility to other powers. Such a disposition does not exist toward any power. Peace and good will have been, and will hereafter be, cultivated with all, and by the most faithful regard to justice. They have been dictated by a love of peace, of economy, and an earnest desire to save the lives of our fellow citizens from that destruction and our country from that devastation which are inseparable from war when it finds us unprepared for it. It is believed, and experience has shown, that such a preparation is the best expedient that can be resorted to prevent war. I add with much pleasure that considerable progress has already been made in these measures of defense, and that they will be completed in a few years, considering the great extent and importance of the object, if the plan be zealously and steadily persevered in.\\n\\nThe conduct of the Government in what relates to foreign powers is always an object of the highest importance to the nation. Its agriculture, commerce, manufactures, fisheries, revenue, in short, its peace, may all be affected by it. Attention is therefore due to this subject.\\n\\nAt the period adverted to the powers of Europe, after having been engaged in long and destructive wars with each other, had concluded a peace, which happily still exists. Our peace with the power with whom we had been engaged had also been concluded. The war between Spain and the colonies in South America, which had commenced many years before, was then the only conflict that remained unsettled. This being a contest between different parts of the same community, in which other powers had not interfered, was not affected by their accommodations.\\n\\nThis contest was considered at an early stage by my predecessor a civil war in which the parties were entitled to equal rights in our ports. This decision, the first made by any power, being formed on great consideration of the comparative strength and resources of the parties, the length of time, and successful opposition made by the colonies, and of all other circumstances on which it ought to depend, was in strict accord with the law of nations. Congress has invariably acted on this principle, having made no change in our relations with either party. Our attitude has therefore been that of neutrality between them, which has been maintained by the Government with the strictest impartiality. No aid has been afforded to either, nor has any privilege been enjoyed by the one which has not been equally open to the other party, and every exertion has been made in its power to enforce the execution of the laws prohibiting illegal equipments with equal rigor against both.\\n\\nBy this equality between the parties their public vessels have been received in our ports on the same footing; they have enjoyed an equal right to purchase and export arms, munitions of war, and every other supply, the exportation of all articles whatever being permitted under laws which were passed long before the commencement of the contest; our citizens have traded equally with both, and their commerce with each has been alike protected by the Government.\\n\\nRespecting the attitude which it may be proper for the United States to maintain hereafter between the parties, I have no hesitation in stating it as my opinion that the neutrality heretofore observed should still be adhered to. From the change in the Government of Spain and the negotiation now depending, invited by the Cortes and accepted by the colonies, it may be presumed, that their differences will be settled on the terms proposed by the colonies. Should the war be continued, the United States, regarding its occurrences, will always have it in their power to adopt such measures respecting it as their honor and interest may require.\\n\\nShortly after the general peace a band of adventurers took advantage of this conflict and of the facility which it afforded to establish a system of buccaneering in the neighboring seas, to the great annoyance of the commerce of the United States, and, as was represented, of that of other powers. Of this spirit and of its injurious bearing on the United States strong proofs were afforded by the establishment at Amelia Island, and the purposes to which it was made instrumental by this band in 1817, and by the occurrences which took place in other parts of Florida in 1818, the details of which in both instances are too well known to require to be now recited. I am satisfied had a less decisive course been adopted that the worst consequences would have resulted from it. We have seen that these checks, decisive as they were, were not sufficient to crush that piratical spirit. Many culprits brought within our limits have been condemned to suffer death, the punishment due to that atrocious crime. The decisions of upright and enlightened tribunals fall equally on all whose crimes subject them, by a fair interpretation of the law, to its censure. It belongs to the Executive not to suffer the executions under these decisions to transcend the great purpose for which punishment is necessary. The full benefit of example being secured, policy as well as humanity equally forbids that they should be carried further. I have acted on this principle, pardoning those who appear to have been led astray by ignorance of the criminality of the acts they had committed, and suffering the law to take effect on those only in whose favor no extenuating circumstances could be urged.\\n\\nGreat confidence is entertained that the late treaty with Spain, which has been ratified by both the parties, and the ratifications whereof have been exchanged, has placed the relations of the two countries on a basis of permanent friendship. The provision made by it for such of our citizens as have claims on Spain of the character described will, it is presumed, be very satisfactory to them, and the boundary which is established between the territories of the parties westward of the Mississippi, heretofore in dispute, has, it is thought, been settled on conditions just and advantageous to both. But to the acquisition of Florida too much importance can not be attached. It secures to the United States a territory important in itself, and whose importance is much increased by its bearing on many of the highest interests of the Union. It opens to several of the neighboring States a free passage to the ocean, through the Province ceded, by several rivers, having their sources high up within their limits. It secures us against all future annoyance from powerful Indian tribes. It gives us several excellent harbors in the Gulf of Mexico for ships of war of the largest size. It covers by its position in the Gulf the Mississippi and other great waters within our extended limits, and thereby enables the United States to afford complete protection to the vast and very valuable productions of our whole Western country, which find a market through those streams.\\n\\nBy a treaty with the British Government, bearing date on the 20th of October, 1818, the convention regulating the commerce between the United States and Great Britain, concluded on the 3d of July, 1815, which was about expiring, was revived and continued for the term of ten years from the time of its expiration. By that treaty, also, the differences which had arisen under the treaty of Ghent respecting the right claimed by the United States for their citizens to take and cure fish on the coast of His Britannic Majesty's dominions in America, with other differences on important interests, were adjusted to the satisfaction of both parties. No agreement has yet been entered into respecting the commerce between the United States and the British dominions in the West Indies and on this continent. The restraints imposed on that commerce by Great Britain, and reciprocated by the United States on a principle of defense, continue still in force.\\n\\nThe negotiation with France for the regulation of the commercial relations between the two countries, which in the course of the last summer had been commenced at Paris, has since been transferred to this city, and will be pursued on the part of the United States in the spirit of conciliation, and with an earnest desire that it may terminate in an arrangement satisfactory to both parties.\\n\\nOur relations with the Barbary Powers are preserved in the same state and by the same means that were employed when I came into this office. As early as 1801 it was found necessary to send a squadron into the Mediterranean for the protection of our commerce and no period has intervened, a short term excepted, when it was thought advisable to withdraw it. The great interests which the United States have in the Pacific, in commerce and in the fisheries, have also made it necessary to maintain a naval force there In disposing of this force in both instances the most effectual measures in our power have been taken, without interfering with its other duties, for the suppression of the slave trade and of piracy in the neighboring seas.\\n\\nThe situation of the United States in regard to their resources, the extent of their revenue, and the facility with which it is raised affords a most gratifying spectacle. The payment of nearly $67,000,000 of the public debt, with the great progress made in measures of defense and in other improvements of various kinds since the late war, are conclusive proofs of this extraordinary prosperity, especially when it is recollected that these expenditures have been defrayed without a burthen on the people, the direct tax and excise having been repealed soon after the conclusion of the late war, and the revenue applied to these great objects having been raised in a manner not to be felt. Our great resources therefore remain untouched for any purpose which may affect the vital interests of the nation. For all such purposes they are inexhaustible. They are more especially to be found in the virtue, patriotism, and intelligence of our fellow citizens, and in the devotion with which they would yield up by any just measure of taxation all their property in support of the rights and honor of their country.\\n\\nUnder the present depression of prices, affecting all the productions of the country and every branch of industry, proceeding from causes explained on a former occasion, the revenue has considerably diminished, the effect of which has been to compel Congress either to abandon these great measures of defense or to resort to loans or internal taxes to supply the deficiency. On the presumption that this depression and the deficiency in the revenue arising from it would be temporary, loans were authorized for the demands of the last and present year. Anxious to relieve my fellow citizens in 1817 from every burthen which could be dispensed with and the state of the Treasury permitting it, I recommended the repeal of the internal taxes, knowing that such relief was then peculiarly necessary in consequence of the great exertions made in the late war. I made that recommendation under a pledge that should the public exigencies require a recurrence to them at any time while I remained in this trust, I would with equal promptitude perform the duty which would then be alike incumbent on me. By the experiment now making it will be seen by the next session of Congress whether the revenue shall have been so augmented as to be adequate to all these necessary purposes. Should the deficiency still continue, and especially should it be probable that it would be permanent, the course to be pursued appears to me to be obvious. I am satisfied that under certain circumstances loans may be resorted to with great advantage. I am equally well satisfied, as a general rule, that the demands of the current year, especially in time of peace, should be provided for by the revenue of that year.\\n\\nI have never dreaded, nor have I ever shunned, in any situation in which I have been placed making appeals to the virtue and patriotism of my fellow citizens, well knowing that they could never be made in vain, especially in times of great emergency or for purposes of high national importance. Independently of the exigency of the case, many considerations of great weight urge a policy having in view a provision of revenue to meet to a certain extent the demands of the nation, without relying altogether on the precarious resource of foreign commerce. I am satisfied that internal duties and excises, with corresponding imposts on foreign articles of the same kind, would, without imposing any serious burdens on the people, enhance the price of produce, promote our manufactures, and augment the revenue, at the same time that they made it more secure and permanent.\\n\\nThe care of the Indian tribes within our limits has long been an essential part of our system, but, unfortunately, it has not been executed in a manner to accomplish all the objects intended by it. We have treated them as independent nations, without their having any substantial pretensions to that rank. The distinction has flattered their pride, retarded their improvement, and in many instances paved the way to their destruction. The progress of our settlements westward, supported as they are by a dense population, has constantly driven them back, with almost the total sacrifice of the lands which they have been compelled to abandon. They have claims on the magnanimity and, I may add, on the justice of this nation which we must all feel. We should become their real benefactors; we should perform the office of their Great Father, the endearing title which they emphatically give to the Chief Magistrate of our Union. Their sovereignty over vast territories should cease, in lieu of which the right of soil should be secured to each individual and his posterity in competent portions; and for the territory thus ceded by each tribe some reasonable equivalent should be granted, to be vested in permanent funds for the support of civil government over them and for the education of their children, for their instruction in the arts of husbandry, and to provide sustenance for them until they could provide it for themselves. My earnest hope is that Congress will digest some plan, founded on these principles, with such improvements as their wisdom may suggest, and carry it into effect as soon as it may be practicable.\\n\\nEurope is again unsettled and the prospect of war increasing. Should the flame light up in any quarter, how far it may extend it is impossible to foresee. It is our peculiar felicity to be altogether unconnected with the causes which produce this menacing aspect elsewhere. With every power we are in perfect amity, and it is our interest to remain so if it be practicable on just conditions. I see no reasonable cause to apprehend variance with any power, unless it proceed from a violation of our maritime rights. In these contests, should they occur, and to whatever extent they may be carried, we shall be neutral; but as a neutral power we have rights which it is our duty to maintain. For like injuries it will be incumbent on us to seek redress in a spirit of amity, in full confidence that, injuring none, none would knowingly injure us. For more imminent dangers we should be prepared, and it should always be recollected that such preparation adapted to the circumstances and sanctioned by the judgment and wishes of our constituents can not fail to have a good effect in averting dangers of every kind. We should recollect also that the season of peace is best adapted to these preparations.\\n\\nIf we turn our attention, fellow citizens, more immediately to the internal concerns of our country, and more especially to those on which its future welfare depends, we have every reason to anticipate the happiest results. It is now rather more than forty-four years since we declared our independence, and thirty-seven since it was acknowledged. The talents and virtues which were displayed in that great struggle were a sure presage of all that has since followed. A people who were able to surmount in their infant state such great perils would be more competent as they rose into manhood to repel any which they might meet in their progress. Their physical strength would be more adequate to foreign danger, and the practice of self-government, aided by the light of experience, could not fail to produce an effect equally salutary on all those questions connected with the internal organization. These favorable anticipations have been realized.\\n\\nIn our whole system, national and State, we have shunned all the defects which unceasingly preyed on the vitals and destroyed the ancient Republics. In them there were distinct orders, a nobility and a people, or the people governed in one assembly. Thus, in the one instance there was a perpetual conflict between the orders in society for the ascendency, in which the victory of either terminated in the overthrow of the government and the ruin of the state; in the other, in which the people governed in a body, and whose dominions seldom exceeded the dimensions of a county in one of our States, a tumultuous and disorderly movement permitted only a transitory existence. In this great nation there is but one order, that of the people, whose power, by a peculiarly happy improvement of the representative principle, is transferred from them, without impairing in the slightest degree their sovereignty, to bodies of their own creation, and to persons elected by themselves, in the full extent necessary for all the purposes of free, enlightened and efficient government. The whole system is elective, the complete sovereignty being in the people, and every officer in every department deriving his authority from and being responsible to them for his conduct.\\n\\nOur career has corresponded with this great outline. Perfection in our organization could not have been expected in the outset either in the National or State Governments or in tracing the line between their respective powers. But no serious conflict has arisen, nor any contest but such as are managed by argument and by a fair appeal to the good sense of the people, and many of the defects which experience had clearly demonstrated in both Governments have been remedied. By steadily pursuing this course in this spirit there is every reason to believe that our system will soon attain the highest degree of perfection of which human institutions are capable, and that the movement in all its branches will exhibit such a degree of order and harmony as to command the admiration and respect of the civilized world.\\n\\nOur physical attainments have not been less eminent. Twenty-five years ago the river Mississippi was shut up and our Western brethren had no outlet for their commerce. What has been the progress since that time? The river has not only become the property of the United States from its source to the ocean, with all its tributary streams (with the exception of the upper part of the Red River only), but Louisiana, with a fair and liberal boundary on the western side and the Floridas on the eastern, have been ceded to us. The United States now enjoy the complete and uninterrupted sovereignty over the whole territory from St. Croix to the Sabine. New States, settled from among ourselves in this and in other parts, have been admitted into our Union in equal participation in the national sovereignty with the original States. Our population has augmented in an astonishing degree and extended in every direction. We now, fellow citizens, comprise within our limits the dimensions and faculties of a great power under a Government possessing all the energies of any government ever known to the Old World, with an utter incapacity to oppress the people.\\n\\nEntering with these views the office which I have just solemnly sworn to execute with fidelity and to the utmost of my ability, I derive great satisfaction from a knowledge that I shall be assisted in the several Departments by the very enlightened and upright citizens from whom I have received so much aid in the preceding term. With full confidence in the continuance of that candor and generous indulgence from my fellow-citizens at large which I have heretofore experienced, and with a firm reliance on the protection of Almighty God, I shall forthwith commence the duties of the high trust to which you have called me.\\n\""
      ]
     },
     "execution_count": 5,
     "metadata": {},
     "output_type": "execute_result"
    }
   ],
   "source": [
    "# view the 1821 Monroe inaugural\n",
    "inaugural.raw('1821-Monroe.txt')"
   ]
  },
  {
   "cell_type": "code",
   "execution_count": 6,
   "id": "17ee81ca",
   "metadata": {},
   "outputs": [
    {
     "data": {
      "text/plain": [
       "['Fellow', 'citizens', ',', 'I', 'shall', 'not', ...]"
      ]
     },
     "execution_count": 6,
     "metadata": {},
     "output_type": "execute_result"
    }
   ],
   "source": [
    "inaugural.words('1821-Monroe.txt')"
   ]
  },
  {
   "cell_type": "code",
   "execution_count": 7,
   "id": "a1562111",
   "metadata": {},
   "outputs": [
    {
     "data": {
      "text/plain": [
       "[['Fellow', 'citizens', ',', 'I', 'shall', 'not', 'attempt', 'to', 'describe', 'the', 'grateful', 'emotions', 'which', 'the', 'new', 'and', 'very', 'distinguished', 'proof', 'of', 'the', 'confidence', 'of', 'my', 'fellow', 'citizens', ',', 'evinced', 'by', 'my', 'reelection', 'to', 'this', 'high', 'trust', ',', 'has', 'excited', 'in', 'my', 'bosom', '.'], ['The', 'approbation', 'which', 'it', 'announces', 'of', 'my', 'conduct', 'in', 'the', 'preceding', 'term', 'affords', 'me', 'a', 'consolation', 'which', 'I', 'shall', 'profoundly', 'feel', 'through', 'life', '.'], ...]"
      ]
     },
     "execution_count": 7,
     "metadata": {},
     "output_type": "execute_result"
    }
   ],
   "source": [
    "inaugural.sents('1821-Monroe.txt') "
   ]
  },
  {
   "cell_type": "code",
   "execution_count": 8,
   "id": "52d70443",
   "metadata": {},
   "outputs": [
    {
     "data": {
      "text/plain": [
       "[[['Fellow', 'citizens', ',', 'I', 'shall', 'not', 'attempt', 'to', 'describe', 'the', 'grateful', 'emotions', 'which', 'the', 'new', 'and', 'very', 'distinguished', 'proof', 'of', 'the', 'confidence', 'of', 'my', 'fellow', 'citizens', ',', 'evinced', 'by', 'my', 'reelection', 'to', 'this', 'high', 'trust', ',', 'has', 'excited', 'in', 'my', 'bosom', '.'], ['The', 'approbation', 'which', 'it', 'announces', 'of', 'my', 'conduct', 'in', 'the', 'preceding', 'term', 'affords', 'me', 'a', 'consolation', 'which', 'I', 'shall', 'profoundly', 'feel', 'through', 'life', '.'], ['The', 'general', 'accord', 'with', 'which', 'it', 'has', 'been', 'expressed', 'adds', 'to', 'the', 'great', 'and', 'never', '-', 'ceasing', 'obligations', 'which', 'it', 'imposes', '.'], ['To', 'merit', 'the', 'continuance', 'of', 'this', 'good', 'opinion', ',', 'and', 'to', 'carry', 'it', 'with', 'me', 'into', 'my', 'retirement', 'as', 'the', 'solace', 'of', 'advancing', 'years', ',', 'will', 'be', 'the', 'object', 'of', 'my', 'most', 'zealous', 'and', 'unceasing', 'efforts', '.']], [['Having', 'no', 'pretensions', 'to', 'the', 'high', 'and', 'commanding', 'claims', 'of', 'my', 'predecessors', ',', 'whose', 'names', 'are', 'so', 'much', 'more', 'conspicuously', 'identified', 'with', 'our', 'Revolution', ',', 'and', 'who', 'contributed', 'so', 'preeminently', 'to', 'promote', 'its', 'success', ',', 'I', 'consider', 'myself', 'rather', 'as', 'the', 'instrument', 'than', 'the', 'cause', 'of', 'the', 'union', 'which', 'has', 'prevailed', 'in', 'the', 'late', 'election', 'In', 'surmounting', ',', 'in', 'favor', 'of', 'my', 'humble', 'pretensions', ',', 'the', 'difficulties', 'which', 'so', 'often', 'produce', 'division', 'in', 'like', 'occurrences', ',', 'it', 'is', 'obvious', 'that', 'other', 'powerful', 'causes', ',', 'indicating', 'the', 'great', 'strength', 'and', 'stability', 'of', 'our', 'Union', ',', 'have', 'essentially', 'contributed', 'to', 'draw', 'you', 'together', '.'], ['That', 'these', 'powerful', 'causes', 'exist', ',', 'and', 'that', 'they', 'are', 'permanent', ',', 'is', 'my', 'fixed', 'opinion', ';', 'that', 'they', 'may', 'produce', 'a', 'like', 'accord', 'in', 'all', 'questions', 'touching', ',', 'however', 'remotely', ',', 'the', 'liberty', ',', 'prosperity', 'and', 'happiness', 'of', 'our', 'country', 'will', 'always', 'be', 'the', 'object', 'of', 'my', 'most', 'fervent', 'prayers', 'to', 'the', 'Supreme', 'Author', 'of', 'All', 'Good', '.']], ...]"
      ]
     },
     "execution_count": 8,
     "metadata": {},
     "output_type": "execute_result"
    }
   ],
   "source": [
    "inaugural.paras('1821-Monroe.txt')"
   ]
  },
  {
   "cell_type": "markdown",
   "id": "5d54fb3a",
   "metadata": {},
   "source": [
    "And now the 2021 Biden address; we will also view it raw, in words, in sentences and in paragraphs."
   ]
  },
  {
   "cell_type": "code",
   "execution_count": 9,
   "id": "78122c88",
   "metadata": {
    "scrolled": false
   },
   "outputs": [
    {
     "data": {
      "text/plain": [
       "'Chief Justice Roberts, Vice President Harris, Speaker Pelosi, Leader Schumer, Leader McConnell, Vice President Pence, and my distinguished guests, and my fellow Americans: This is America\\'s day. This is democracy\\'s day, a day of history and hope, of renewal and resolve. Through a crucible for the ages America has been tested anew, and America has risen to the challenge.\\n\\nToday we celebrate the triumph not of a candidate, but of a cause, the cause of democracy. The peopleâ\\x80\\x94the will of the people has been heard, and the will of the people has been heeded. We\\'ve learned again that democracy is precious, democracy is fragile. And at this hour, my friends, democracy has prevailed.\\n\\nSo now, on this hallowed ground where just a few days ago violence sought to shake the Capitol\\'s very foundation, we come together as one Nation under God, indivisible, to carry out the peaceful transfer of power as we have for more than two centuries. As we look ahead in our uniquely American wayâ\\x80\\x94restless, bold, optimisticâ\\x80\\x94and set our sights on the Nation we know we can be and we must be, I thank my predecessors of both parties for their presence here today. I thank them from the bottom of my heart. And I know the resilience of our Constitution and the strength, the strength of our Nation, as does President Carter, who I spoke with last night, who cannot be with us today, but whom we salute for his lifetime of service.\\n\\nI have just taken the sacred oath each of these patriots have taken, the oath first sworn by George Washington. But the American story depends not on any one of us, not on some of us, but on all of us, on \"We the People,\" who seek a more perfect Union.\\n\\nThis is a great Nation; we are good people. Over the centuries, through storm and strife, in peace and in war, we\\'ve come so far. But we still have far to go. We\\'ll press forward with speed and urgency, for we have much to do in this winter of peril and significant possibilities: much to repair, much to restore, much to heal, much to build, and much to gain.\\n\\nFew people in our Nation\\'s history have been more challenged or found a time more challenging or difficult than the time we\\'re in now. A once-in-a-century virus that silently stalks the country has taken as many lives in one year as America lost in all of World War II. Millions of jobs have been lost; hundreds of thousands of businesses closed. A cry for racial justice some 400 years in the making moves us. The dream of justice for all will be deferred no longer. A cry for survival comes from the planet itself, a cry that can\\'t be any more desperate or any more clear. And now, a rise of political extremism, White supremacy, domestic terrorism that we must confront and we will defeat.\\n\\nTo overcome these challengesâ\\x80\\x94to restore the soul and secure the future of Americaâ\\x80\\x94requires so much more than words. It requires the most elusive of all things in a democracy: unity. Unity.\\n\\nIn another January on New Year\\'s Day in 1863, Abraham Lincoln signed the Emancipation Proclamation. When he put pen to paper, the President said, and I quote, \"If my name ever goes down into history it will be for this act, and my whole soul is in it.\" My whole soul is in it.\\n\\nToday, on this January day, my whole soul is in this: bringing America together, uniting our people, uniting our Nation. And I ask every American to join me in this cause: uniting to fight the foes we face: anger, resentment, and hatred; extremism, lawlessness, violence; disease, joblessness, and hopelessness.\\n\\nWith unity we can do great things, important things. We can right wrongs. We can put people to work in good jobs. We can teach our children in safe schools. We can overcome the deadly virus. We can reward work and rebuild the middle class and make health care secure for all. We can deliver racial justice, and we can make America, once again, the leading force for good in the world.\\n\\nI know speaking of unity can sound to some like a foolish fantasy these days. I know the forces that divide us are deep and they are real. But I also know they are not new. Our history has been a constant struggle between the American ideal that we all are created equal and the harsh, ugly reality that racism, nativism, fear, demonization have long torn us apart. The battle is perennial. And victory is never assured.\\n\\nThrough the Civil War, the Great Depression, World War, 9/11, through struggle, sacrifice, and setbacks, our \"better angels\" have always prevailed. In each of these moments, enough of usâ\\x80\\x94enough of usâ\\x80\\x94have come together to carry all of us forward. And we can do that now. History, faith, and reason show the way: the way of unity.\\n\\nWe can see each other not as adversaries, but as neighbors. We can treat each other with dignity and respect. We can join forces, stop the shouting, and lower the temperature. For without unity, there is no peace, only bitterness and fury. No progress, only exhausting outrage. No nation, only a state of chaos.\\n\\nThis is our historic moment of crisis and challenge, and unity is the path forward. And we must meet this moment as the United States of America. If we do that, I guarantee you, we will not fail. We have never, ever, ever, ever failed in America when we have acted together.\\n\\nAnd so today, at this time, in this place, let\\'s start afresh, all of us. Let\\'s begin to listen to one another, hear one another, see one another, show respect to one another. Politics doesn\\'t have to be a raging fire destroying everything in its path. Every disagreement doesn\\'t have to be a cause for total war. And we must reject the culture in which facts themselves are manipulated and even manufactured.\\n\\nMy fellow Americans, we have to be different than this. America has to be better than this. And I believe America is so much better than this.\\n\\nJust look around. Here we stand, in the shadow of the Capitol dome, as was mentioned earlier, completed amid the Civil War, when the Union itself was literally hanging in the balance. Yet we endured, we prevailed.\\n\\nHere we stand looking out on the great Mall where Dr. King spoke of his dream.\\n\\nHere we stand, where 108 years ago, at another Inaugural, thousands of protesters tried to block brave women marching for the right to vote. And today we mark the swearing-in of the first woman in American history elected to national office: Vice President Kamala Harris. Don\\'t tell me things can\\'t change.\\n\\nHere we stand across the Potomac from Arlington Cemetery, where heroes who gave the last full measure of devotion rest in eternal peace.\\n\\nAnd here we stand, just days after a riotous mob thought they could use violence to silence the will of the people, to stop the work of our democracy, to drive us from this sacred ground. It did not happen. It will never happen, not today, not tomorrow, not everâ\\x80\\x94not ever.\\n\\nTo all those who supported our campaign, I am humbled by the faith you\\'ve placed in us. To all those who did not support us, let me say this: Hear me out as we move forward. Take a measure of me and my heart. And if you still disagree, so be it. That\\'s democracy. That\\'s America. The right to dissent peaceably, within the guardrails of our Republic, is perhaps this Nation\\'s greatest strength. Yet hear me clearly: Disagreement must not lead to disunion. And I pledge this to you: I will be a President for all Americansâ\\x80\\x94all Americans. And I promise you, I will fight as hard for those who did not support me as for those who did.\\n\\nMany centuries ago, Saint Augustine, a saint of my church, wrote that a people was a multitude defined by the common objects of their loveâ\\x80\\x94defined by the common objects of their love. What are the common objects we as Americans love? That define us as Americans? I think we know: opportunity, security, liberty, dignity, respect, honor, and yes, the truth.\\n\\nRecent weeks and months have taught us a painful lesson. There is truth, and there are lies: lies told for power and for profit. And each of us has a duty and a responsibility, as citizens, as Americans, and especially as leadersâ\\x80\\x94leaders who have pledged to honor our Constitution and protect our Nationâ\\x80\\x94to defend the truth and defeat the lies.\\n\\nLook, I understand that many of my fellow Americans view the future with fear and trepidation. I understand they worry about their jobs. I understand, like my dad, they lay at bed at night staring at the ceiling, wondering: \"Can I keep my health care? Can I pay my mortgage?\" Thinking about their families, about what comes next. I promise you, I get it. But the answer is not to turn inward, to retreat into competing factions, distrusting those who don\\'t look like you or worship the way you do or don\\'t get their news from the same sources you do. We must end this uncivil war that pits red against blue, rural versus urban, conservative versus liberal. We can do this if we open our souls instead of hardening our hearts, if we show a little tolerance and humility, and if we\\'re willing to stand in the other person\\'s shoes, as my mom would say, just for a moment. Stand in their shoes.\\n\\nBecause here is the thing about life: There is no accounting for what fate will deal you. Some days when you need a hand. There are other days when we\\'re called to lend a hand. That\\'s how it has to be. That is what we do for one another. And if we are this way, our country will be stronger, more prosperous, more ready for the future. And we can still disagree.\\n\\nMy fellow Americans, in the work ahead of us, we\\'re going to need each other. We need all our strength to persevere through this dark winter. We\\'re entering what may be the toughest and deadliest period of the virus. We must set aside politics and finally face this pandemic as one Nation. One Nation. And I promise you this: As the Bible says, \"Weeping may endure for a night, but joy cometh in the morning.\" We will get through this, togetherâ\\x80\\x94together.\\n\\nLook, folks, all my colleagues that I served with in the House and the Senate up here. We all understand the world is watching, watching all of us today. So here is my message to those beyond our borders: America has been tested, and we have come out stronger for it. We will repair our alliances and engage with the world once again, not to meet yesterday\\'s challenges, but today\\'s and tomorrow\\'s challenges. And we\\'ll lead not merely by the example of our power, but by the power of our example. We will be a strong and trusted partner for peace, progress, and security.\\n\\nLook, you all know, we have been through so much in this Nation. And, in my first act as President, I\\'d like to ask you to join me in a moment of silent prayer to remember all those we lost this past year to the pandemic, those 400,000 fellow Americans: moms, dads, husbands, wives, sons, daughters, friends, neighbors, and coworkers. We will honor them by becoming the people and Nation we know we can and should be.\\n\\nSo I ask you, let\\'s say a silent prayer for those who have lost their lives, for those they left behind, and for our country.\\n\\n[At this point, a moment of silence was observed.]\\n\\nAmen.\\n\\nFolks, this is a time of testing. We face an attack on our democracy and on truth, a raging virus, growing inequity, the sting of systemic racism, a climate in crisis, America\\'s role in the world. Any one of these would be enough to challenge us in profound ways. But the fact is, we face them all at once, presenting this Nation with one of the gravest of responsibilities we\\'ve had.\\n\\nNow we\\'re going to be tested. Are we going to step up? All of us? It is time for boldness, for there is so much to do. And this is certain, I promise you: We will be judged, you and I, by how we resolve these cascading crises of our era. Will we rise to the occasion, is the question. Will we master this rare and difficult hour? Will we meet our obligations and pass along a new and better world to our children? I believe we must; I\\'m sure you do as well. I believe we will.\\n\\nAnd when we do, we will write the next great chapter in the history of the United States of America: the American story, a story that might sound something like a song that means a lot to me. It\\'s called \"American Anthem,\" and there\\'s one verse that stands out, at least for me, and it goes like this:\\n\\n\"The work and prayers of centuries have brought us to this day\\nWhat shall be our legacy? What will our children say? . . .\\nLet me know in my heart when my days are through\\nAmerica, America, I gave my best to you.\"\\n\\nLet\\'s addâ\\x80\\x94let\\'s us add our own work and prayers to the unfolding story of our great Nation. If we do this, then when our days are through, our children and our children\\'s children will say of us: \"They gave their best. They did their duty. They healed a broken land.\"\\n\\nMy fellow Americans, I close today where I began, with a sacred oath. Before God and all of you I give you my word: I will always level with you. I will defend the Constitution. I will defend our democracy. I will defend America. And I will give all, all of you, keep everything youâ\\x80\\x94I do, in your service, thinking not of power, but of possibilities; not of personal interest, but of the public good. And together, we shall write an American story of hope, not fear; of unity, not division; of light, not darkness. A story of decency and dignity, love and healing, greatness and goodness.\\n\\nMay this be the story that guides us, the story that inspires us, and the story that tells ages yet to come that we answered the call of history, we met the moment; democracy and hope, truth and justice, did not die on our watch, but thrived; that America secured liberty at home and stood once again as a beacon to the world. That is what we owe our forebearers, one another, and generations to follow.\\n\\nSo with purpose and resolve we turn to those tasks of our time, sustained by faith, driven by conviction, and devoted to one another and the country we love with all our hearts.\\n\\nMay God bless America, and may God protect our troops. Thank you, America.\\n'"
      ]
     },
     "execution_count": 9,
     "metadata": {},
     "output_type": "execute_result"
    }
   ],
   "source": [
    "# viewing 2021 Biden inaugural address\n",
    "inaugural.raw('2021-Biden.txt') "
   ]
  },
  {
   "cell_type": "code",
   "execution_count": 10,
   "id": "dd7bea52",
   "metadata": {},
   "outputs": [
    {
     "data": {
      "text/plain": [
       "['Chief', 'Justice', 'Roberts', ',', 'Vice', ...]"
      ]
     },
     "execution_count": 10,
     "metadata": {},
     "output_type": "execute_result"
    }
   ],
   "source": [
    "inaugural.words('2021-Biden.txt')"
   ]
  },
  {
   "cell_type": "code",
   "execution_count": 11,
   "id": "f1753cc7",
   "metadata": {},
   "outputs": [
    {
     "data": {
      "text/plain": [
       "[['Chief', 'Justice', 'Roberts', ',', 'Vice', 'President', 'Harris', ',', 'Speaker', 'Pelosi', ',', 'Leader', 'Schumer', ',', 'Leader', 'McConnell', ',', 'Vice', 'President', 'Pence', ',', 'and', 'my', 'distinguished', 'guests', ',', 'and', 'my', 'fellow', 'Americans', ':', 'This', 'is', 'America', \"'\", 's', 'day', '.'], ['This', 'is', 'democracy', \"'\", 's', 'day', ',', 'a', 'day', 'of', 'history', 'and', 'hope', ',', 'of', 'renewal', 'and', 'resolve', '.'], ...]"
      ]
     },
     "execution_count": 11,
     "metadata": {},
     "output_type": "execute_result"
    }
   ],
   "source": [
    "inaugural.sents('2021-Biden.txt') "
   ]
  },
  {
   "cell_type": "code",
   "execution_count": 12,
   "id": "286f43d5",
   "metadata": {},
   "outputs": [
    {
     "data": {
      "text/plain": [
       "[[['Chief', 'Justice', 'Roberts', ',', 'Vice', 'President', 'Harris', ',', 'Speaker', 'Pelosi', ',', 'Leader', 'Schumer', ',', 'Leader', 'McConnell', ',', 'Vice', 'President', 'Pence', ',', 'and', 'my', 'distinguished', 'guests', ',', 'and', 'my', 'fellow', 'Americans', ':', 'This', 'is', 'America', \"'\", 's', 'day', '.'], ['This', 'is', 'democracy', \"'\", 's', 'day', ',', 'a', 'day', 'of', 'history', 'and', 'hope', ',', 'of', 'renewal', 'and', 'resolve', '.'], ['Through', 'a', 'crucible', 'for', 'the', 'ages', 'America', 'has', 'been', 'tested', 'anew', ',', 'and', 'America', 'has', 'risen', 'to', 'the', 'challenge', '.']], [['Today', 'we', 'celebrate', 'the', 'triumph', 'not', 'of', 'a', 'candidate', ',', 'but', 'of', 'a', 'cause', ',', 'the', 'cause', 'of', 'democracy', '.'], ['The', 'peopleâ', '\\x80\\x94', 'the', 'will', 'of', 'the', 'people', 'has', 'been', 'heard', ',', 'and', 'the', 'will', 'of', 'the', 'people', 'has', 'been', 'heeded', '.'], ['We', \"'\", 've', 'learned', 'again', 'that', 'democracy', 'is', 'precious', ',', 'democracy', 'is', 'fragile', '.'], ['And', 'at', 'this', 'hour', ',', 'my', 'friends', ',', 'democracy', 'has', 'prevailed', '.']], ...]"
      ]
     },
     "execution_count": 12,
     "metadata": {},
     "output_type": "execute_result"
    }
   ],
   "source": [
    "inaugural.paras('2021-Biden.txt')"
   ]
  },
  {
   "cell_type": "markdown",
   "id": "916b8fd1",
   "metadata": {},
   "source": [
    "Based on these inaugural addresses, there's punctuation in the text that we have to remove these in order to get a more accurate count for the actual words. The `isalpha()` method checks whether the string consists of alphabetic characters only."
   ]
  },
  {
   "cell_type": "code",
   "execution_count": 13,
   "id": "2bd22b25",
   "metadata": {},
   "outputs": [],
   "source": [
    "# assigning the 1821 Monroe address to analyze\n",
    "monroe = nltk.Text(nltk.corpus.inaugural.words('1821-Monroe.txt'))\n",
    "\n",
    "# strip punctuation and numerics using isalpha() method\n",
    "monroe = [w for w in monroe if w.isalpha()]\n",
    "\n",
    "# strip out stop words\n",
    "monroe = [w for w in monroe if w not in stopwords.words('english')]"
   ]
  },
  {
   "cell_type": "code",
   "execution_count": 14,
   "id": "be1aedf7",
   "metadata": {},
   "outputs": [],
   "source": [
    "# assigning the 1821 Biden address to analyze\n",
    "biden = nltk.Text(nltk.corpus.inaugural.words('2021-Biden.txt'))\n",
    "\n",
    "# strip punctuation and numerics using isalpha() method\n",
    "biden = [w for w in biden if w.isalpha()]\n",
    "\n",
    "# strip out stop words\n",
    "biden = [w for w in biden if w not in stopwords.words('english')]"
   ]
  },
  {
   "cell_type": "markdown",
   "id": "4fece150",
   "metadata": {},
   "source": [
    "### Unique Words:\n",
    "\n",
    "For each of the text we will count the total number of words and the unique words as well. While doing so we will answer the following question:\n",
    "\n",
    "* How many unique words represent half of the total words in the corpus?"
   ]
  },
  {
   "cell_type": "code",
   "execution_count": 15,
   "id": "08650763",
   "metadata": {},
   "outputs": [
    {
     "data": {
      "text/plain": [
       "2161"
      ]
     },
     "execution_count": 15,
     "metadata": {},
     "output_type": "execute_result"
    }
   ],
   "source": [
    "# total number of values in the Monroe address\n",
    "len(monroe)"
   ]
  },
  {
   "cell_type": "code",
   "execution_count": 16,
   "id": "c565a8ea",
   "metadata": {},
   "outputs": [
    {
     "data": {
      "text/plain": [
       "1365"
      ]
     },
     "execution_count": 16,
     "metadata": {},
     "output_type": "execute_result"
    }
   ],
   "source": [
    "# total number of values in the Biden address\n",
    "len(biden)"
   ]
  },
  {
   "cell_type": "code",
   "execution_count": 17,
   "id": "f094963c",
   "metadata": {},
   "outputs": [
    {
     "data": {
      "text/plain": [
       "1144"
      ]
     },
     "execution_count": 17,
     "metadata": {},
     "output_type": "execute_result"
    }
   ],
   "source": [
    "# total number of unique values in the Monroe address\n",
    "monroe_unique = set(monroe)\n",
    "len(monroe_unique)"
   ]
  },
  {
   "cell_type": "code",
   "execution_count": 18,
   "id": "e74069b8",
   "metadata": {
    "scrolled": true
   },
   "outputs": [
    {
     "data": {
      "text/plain": [
       "723"
      ]
     },
     "execution_count": 18,
     "metadata": {},
     "output_type": "execute_result"
    }
   ],
   "source": [
    "# total number of unique values in the Biden address\n",
    "biden_unique = set(biden)\n",
    "len(biden_unique)"
   ]
  },
  {
   "cell_type": "code",
   "execution_count": 19,
   "id": "4204f310",
   "metadata": {},
   "outputs": [
    {
     "data": {
      "text/plain": [
       "8013"
      ]
     },
     "execution_count": 19,
     "metadata": {},
     "output_type": "execute_result"
    }
   ],
   "source": [
    "# total words in both inaugural addresses\n",
    "len(inaugural.words(['1821-Monroe.txt', '2021-Biden.txt']))"
   ]
  },
  {
   "cell_type": "markdown",
   "id": "0cbf6168",
   "metadata": {},
   "source": [
    "### Visualization:\n",
    "\n",
    "Let's identify the 200 highest frequency words in the corpus and plot."
   ]
  },
  {
   "cell_type": "code",
   "execution_count": 20,
   "id": "f4e0ba9e",
   "metadata": {},
   "outputs": [],
   "source": [
    "# build the frequency distribution using FreqDist() for both texts\n",
    "freq_monroe = nltk.FreqDist(monroe)\n",
    "freq_biden = nltk.FreqDist(biden)"
   ]
  },
  {
   "cell_type": "markdown",
   "id": "be51011e",
   "metadata": {},
   "source": [
    "We start with Monroe's inaugural address:"
   ]
  },
  {
   "cell_type": "code",
   "execution_count": 21,
   "id": "8605b88d",
   "metadata": {
    "scrolled": true
   },
   "outputs": [
    {
     "data": {
      "text/html": [
       "<div>\n",
       "<style scoped>\n",
       "    .dataframe tbody tr th:only-of-type {\n",
       "        vertical-align: middle;\n",
       "    }\n",
       "\n",
       "    .dataframe tbody tr th {\n",
       "        vertical-align: top;\n",
       "    }\n",
       "\n",
       "    .dataframe thead th {\n",
       "        text-align: right;\n",
       "    }\n",
       "</style>\n",
       "<table border=\"1\" class=\"dataframe\">\n",
       "  <thead>\n",
       "    <tr style=\"text-align: right;\">\n",
       "      <th></th>\n",
       "      <th>word</th>\n",
       "      <th>count</th>\n",
       "      <th>rel_freq</th>\n",
       "    </tr>\n",
       "  </thead>\n",
       "  <tbody>\n",
       "    <tr>\n",
       "      <th>0</th>\n",
       "      <td>I</td>\n",
       "      <td>26</td>\n",
       "      <td>0.012031</td>\n",
       "    </tr>\n",
       "    <tr>\n",
       "      <th>1</th>\n",
       "      <td>The</td>\n",
       "      <td>25</td>\n",
       "      <td>0.011569</td>\n",
       "    </tr>\n",
       "    <tr>\n",
       "      <th>2</th>\n",
       "      <td>great</td>\n",
       "      <td>25</td>\n",
       "      <td>0.011569</td>\n",
       "    </tr>\n",
       "    <tr>\n",
       "      <th>3</th>\n",
       "      <td>States</td>\n",
       "      <td>20</td>\n",
       "      <td>0.009255</td>\n",
       "    </tr>\n",
       "    <tr>\n",
       "      <th>4</th>\n",
       "      <td>would</td>\n",
       "      <td>18</td>\n",
       "      <td>0.008329</td>\n",
       "    </tr>\n",
       "    <tr>\n",
       "      <th>5</th>\n",
       "      <td>United</td>\n",
       "      <td>16</td>\n",
       "      <td>0.007404</td>\n",
       "    </tr>\n",
       "    <tr>\n",
       "      <th>6</th>\n",
       "      <td>war</td>\n",
       "      <td>16</td>\n",
       "      <td>0.007404</td>\n",
       "    </tr>\n",
       "    <tr>\n",
       "      <th>7</th>\n",
       "      <td>citizens</td>\n",
       "      <td>15</td>\n",
       "      <td>0.006941</td>\n",
       "    </tr>\n",
       "    <tr>\n",
       "      <th>8</th>\n",
       "      <td>may</td>\n",
       "      <td>15</td>\n",
       "      <td>0.006941</td>\n",
       "    </tr>\n",
       "    <tr>\n",
       "      <th>9</th>\n",
       "      <td>made</td>\n",
       "      <td>15</td>\n",
       "      <td>0.006941</td>\n",
       "    </tr>\n",
       "  </tbody>\n",
       "</table>\n",
       "</div>"
      ],
      "text/plain": [
       "       word  count  rel_freq\n",
       "0         I     26  0.012031\n",
       "1       The     25  0.011569\n",
       "2     great     25  0.011569\n",
       "3    States     20  0.009255\n",
       "4     would     18  0.008329\n",
       "5    United     16  0.007404\n",
       "6       war     16  0.007404\n",
       "7  citizens     15  0.006941\n",
       "8       may     15  0.006941\n",
       "9      made     15  0.006941"
      ]
     },
     "execution_count": 21,
     "metadata": {},
     "output_type": "execute_result"
    }
   ],
   "source": [
    "# make a dataframe to produce relative frequencies Monroe's top 200\n",
    "monroe_top200 = pd.DataFrame(freq_monroe.most_common(200),columns=['word','count'])\n",
    "monroe_top200['rel_freq'] = monroe_top200['count']/float(len(monroe))\n",
    "monroe_top200.head(10)"
   ]
  },
  {
   "cell_type": "code",
   "execution_count": 22,
   "id": "fbaa7adb",
   "metadata": {},
   "outputs": [
    {
     "data": {
      "text/plain": [
       "<AxesSubplot:>"
      ]
     },
     "execution_count": 22,
     "metadata": {},
     "output_type": "execute_result"
    },
    {
     "data": {
      "text/plain": [
       "<Figure size 1700x500 with 0 Axes>"
      ]
     },
     "metadata": {},
     "output_type": "display_data"
    },
    {
     "data": {
      "image/png": "[encoded data removed]",
      "text/plain": [
       "<Figure size 640x480 with 1 Axes>"
      ]
     },
     "metadata": {},
     "output_type": "display_data"
    }
   ],
   "source": [
    "plt.figure(figsize=(17,5))\n",
    "monroe_top200.plot()"
   ]
  },
  {
   "cell_type": "code",
   "execution_count": 23,
   "id": "15713476",
   "metadata": {},
   "outputs": [
    {
     "data": {
      "image/png": "[encoded data removed]",
      "text/plain": [
       "<Figure size 1400x800 with 1 Axes>"
      ]
     },
     "metadata": {},
     "output_type": "display_data"
    }
   ],
   "source": [
    "# preparing the dataframe again but for the top 20 words\n",
    "monroe_top20 = pd.DataFrame(freq_monroe.most_common(20),columns=['word','count'])\n",
    "monroe_top20['rel_freq'] = monroe_top20['count']/float(len(monroe))\n",
    "\n",
    "# visualizing most common 20 from the 200 words\n",
    "plt.figure(figsize=(14,8))\n",
    "ax = sns.barplot(y=monroe_top20['word'],x=monroe_top20['count'])\n",
    "ax.set(xlabel='count', ylabel='words', title='Monroe 1821 Inaugural Address Top 20 Most Common Words')\n",
    "plt.show()"
   ]
  },
  {
   "cell_type": "markdown",
   "id": "4da9156b",
   "metadata": {},
   "source": [
    "And now Biden's inaugural address:"
   ]
  },
  {
   "cell_type": "code",
   "execution_count": 24,
   "id": "0d627652",
   "metadata": {
    "scrolled": false
   },
   "outputs": [
    {
     "data": {
      "text/html": [
       "<div>\n",
       "<style scoped>\n",
       "    .dataframe tbody tr th:only-of-type {\n",
       "        vertical-align: middle;\n",
       "    }\n",
       "\n",
       "    .dataframe tbody tr th {\n",
       "        vertical-align: top;\n",
       "    }\n",
       "\n",
       "    .dataframe thead th {\n",
       "        text-align: right;\n",
       "    }\n",
       "</style>\n",
       "<table border=\"1\" class=\"dataframe\">\n",
       "  <thead>\n",
       "    <tr style=\"text-align: right;\">\n",
       "      <th></th>\n",
       "      <th>word</th>\n",
       "      <th>count</th>\n",
       "      <th>rel_freq</th>\n",
       "    </tr>\n",
       "  </thead>\n",
       "  <tbody>\n",
       "    <tr>\n",
       "      <th>0</th>\n",
       "      <td>I</td>\n",
       "      <td>44</td>\n",
       "      <td>0.020361</td>\n",
       "    </tr>\n",
       "    <tr>\n",
       "      <th>1</th>\n",
       "      <td>We</td>\n",
       "      <td>25</td>\n",
       "      <td>0.011569</td>\n",
       "    </tr>\n",
       "    <tr>\n",
       "      <th>2</th>\n",
       "      <td>And</td>\n",
       "      <td>25</td>\n",
       "      <td>0.011569</td>\n",
       "    </tr>\n",
       "    <tr>\n",
       "      <th>3</th>\n",
       "      <td>us</td>\n",
       "      <td>24</td>\n",
       "      <td>0.011106</td>\n",
       "    </tr>\n",
       "    <tr>\n",
       "      <th>4</th>\n",
       "      <td>America</td>\n",
       "      <td>20</td>\n",
       "      <td>0.009255</td>\n",
       "    </tr>\n",
       "    <tr>\n",
       "      <th>5</th>\n",
       "      <td>one</td>\n",
       "      <td>14</td>\n",
       "      <td>0.006478</td>\n",
       "    </tr>\n",
       "    <tr>\n",
       "      <th>6</th>\n",
       "      <td>Nation</td>\n",
       "      <td>13</td>\n",
       "      <td>0.006016</td>\n",
       "    </tr>\n",
       "    <tr>\n",
       "      <th>7</th>\n",
       "      <td>democracy</td>\n",
       "      <td>11</td>\n",
       "      <td>0.005090</td>\n",
       "    </tr>\n",
       "    <tr>\n",
       "      <th>8</th>\n",
       "      <td>Americans</td>\n",
       "      <td>10</td>\n",
       "      <td>0.004627</td>\n",
       "    </tr>\n",
       "    <tr>\n",
       "      <th>9</th>\n",
       "      <td>much</td>\n",
       "      <td>10</td>\n",
       "      <td>0.004627</td>\n",
       "    </tr>\n",
       "  </tbody>\n",
       "</table>\n",
       "</div>"
      ],
      "text/plain": [
       "        word  count  rel_freq\n",
       "0          I     44  0.020361\n",
       "1         We     25  0.011569\n",
       "2        And     25  0.011569\n",
       "3         us     24  0.011106\n",
       "4    America     20  0.009255\n",
       "5        one     14  0.006478\n",
       "6     Nation     13  0.006016\n",
       "7  democracy     11  0.005090\n",
       "8  Americans     10  0.004627\n",
       "9       much     10  0.004627"
      ]
     },
     "execution_count": 24,
     "metadata": {},
     "output_type": "execute_result"
    }
   ],
   "source": [
    "# make a dataframe to produce relative frequencies for Biden's top 200\n",
    "biden_top200 = pd.DataFrame(freq_biden.most_common(200),columns=['word','count'])\n",
    "biden_top200['rel_freq'] = biden_top200['count']/float(len(monroe))\n",
    "biden_top200.head(10)"
   ]
  },
  {
   "cell_type": "code",
   "execution_count": 25,
   "id": "c395f54e",
   "metadata": {},
   "outputs": [
    {
     "data": {
      "text/plain": [
       "<AxesSubplot:>"
      ]
     },
     "execution_count": 25,
     "metadata": {},
     "output_type": "execute_result"
    },
    {
     "data": {
      "text/plain": [
       "<Figure size 1700x500 with 0 Axes>"
      ]
     },
     "metadata": {},
     "output_type": "display_data"
    },
    {
     "data": {
      "image/png": "[encoded data removed]",
      "text/plain": [
       "<Figure size 640x480 with 1 Axes>"
      ]
     },
     "metadata": {},
     "output_type": "display_data"
    }
   ],
   "source": [
    "plt.figure(figsize=(17,5))\n",
    "biden_top200.plot()"
   ]
  },
  {
   "cell_type": "code",
   "execution_count": 26,
   "id": "0db9ad0b",
   "metadata": {},
   "outputs": [
    {
     "data": {
      "image/png": "[encoded data removed]",
      "text/plain": [
       "<Figure size 1400x800 with 1 Axes>"
      ]
     },
     "metadata": {},
     "output_type": "display_data"
    }
   ],
   "source": [
    "# preparing the dataframe again but for the top 20 words\n",
    "biden_top20 = pd.DataFrame(freq_biden.most_common(20),columns=['word','count'])\n",
    "biden_top20['rel_freq'] = biden_top20['count']/float(len(monroe))\n",
    "\n",
    "# visualizing most common 20 from the 200 words\n",
    "plt.figure(figsize=(14,8))\n",
    "ax = sns.barplot(y=biden_top20['word'],x=biden_top20['count'])\n",
    "ax.set(xlabel='count', ylabel='words', title='Biden 2021 Inaugural Address Top 20 Most Common Words')\n",
    "plt.show()"
   ]
  },
  {
   "cell_type": "markdown",
   "id": "9d52e025",
   "metadata": {},
   "source": [
    "Based on the barplots, these inaugural addresses contain different top 20 word counts. For instance, both speeches, we have `I` ranking "
   ]
  },
  {
   "cell_type": "code",
   "execution_count": null,
   "id": "2c64e324",
   "metadata": {},
   "outputs": [],
   "source": []
  },
  {
   "cell_type": "markdown",
   "id": "6561d944",
   "metadata": {},
   "source": [
    "### Zipf's Law"
   ]
  },
  {
   "cell_type": "markdown",
   "id": "8683d045",
   "metadata": {},
   "source": []
  },
  {
   "cell_type": "code",
   "execution_count": null,
   "id": "aeba434e",
   "metadata": {},
   "outputs": [],
   "source": []
  },
  {
   "cell_type": "markdown",
   "id": "de2389a7",
   "metadata": {},
   "source": [
    "#### References:\n",
    "* Sample usage for corpus. NLTK. (2023, January 2). Retrieved March 16, 2023, from https://www.nltk.org/howto/corpus.html \n",
    "* Python String isalpha() Method. Python string isalpha() method. (n.d.). Retrieved March 18, 2023, from https://www.w3schools.com/python/ref_string_isalpha.asp "
   ]
  }
 ],
 "metadata": {
  "kernelspec": {
   "display_name": "Python 3 (ipykernel)",
   "language": "python",
   "name": "python3"
  },
  "language_info": {
   "codemirror_mode": {
    "name": "ipython",
    "version": 3
   },
   "file_extension": ".py",
   "mimetype": "text/x-python",
   "name": "python",
   "nbconvert_exporter": "python",
   "pygments_lexer": "ipython3",
   "version": "3.9.13"
  }
 },
 "nbformat": 4,
 "nbformat_minor": 5
}
