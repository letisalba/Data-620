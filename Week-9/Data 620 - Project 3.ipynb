{
 "cells": [
  {
   "cell_type": "markdown",
   "id": "7b5988f3",
   "metadata": {},
   "source": [
    "### Data 620 - Project 3\n",
    "### Team Project \n",
    "### March 26, 2023"
   ]
  },
  {
   "cell_type": "markdown",
   "id": "e5a4d9dc",
   "metadata": {},
   "source": [
    "#### Task:\n",
    "\n",
    "This is a Team Project!  For this project, please work with the entire class as one collaborative group!\n",
    "\n",
    "Using any of the three classifiers described in chapter 6 of Natural Language Processing with Python, and any features you can think of, build the best name gender classifier you can. Begin by splitting the Names Corpus into three subsets: 500 words for the test set, 500 words for the dev-test set, and the remaining 6900 words for the training set. Then, starting with the example name gender classifier, make incremental improvements. Use the dev-test set to check your progress. Once you are satisfied with your classifier, check its final performance on the test set. How does the performance on the test set compare to the performance on the dev-test set? Is this what you'd expect?\n",
    "\n",
    "Source: Natural Language Processing with Python, exercise 6.10.2.\n",
    "The ability to be an effective member of a virtual team is highly valued in the data science job market."
   ]
  },
  {
   "cell_type": "code",
   "execution_count": null,
   "id": "71a48d55",
   "metadata": {},
   "outputs": [],
   "source": []
  }
 ],
 "metadata": {
  "kernelspec": {
   "display_name": "Python 3 (ipykernel)",
   "language": "python",
   "name": "python3"
  },
  "language_info": {
   "codemirror_mode": {
    "name": "ipython",
    "version": 3
   },
   "file_extension": ".py",
   "mimetype": "text/x-python",
   "name": "python",
   "nbconvert_exporter": "python",
   "pygments_lexer": "ipython3",
   "version": "3.9.13"
  }
 },
 "nbformat": 4,
 "nbformat_minor": 5
}
