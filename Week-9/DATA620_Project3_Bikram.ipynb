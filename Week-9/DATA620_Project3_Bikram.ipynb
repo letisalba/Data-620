{
 "cells": [
  {
   "cell_type": "markdown",
   "id": "aea61678",
   "metadata": {},
   "source": [
    "# Data 620 - Project 3\n",
    "-Bikram Barua\n"
   ]
  },
  {
   "cell_type": "markdown",
   "id": "2067e7fe",
   "metadata": {},
   "source": [
    "Task:\n",
    "Using any of the three classifiers described in chapter 6 of Natural Language Processing with Python (or a classifier from scikit-learn or any other Python ML library), and any features you can think of, build the best name gender classifier you can.\n",
    "\n",
    "Begin by splitting the Names Corpus into three subsets: 500 words for the test set, 500 words for the dev-test set, and the remaining 6900 words for the training set.\n",
    "Then, starting with the example name gender classifier, make incremental improvements.\n",
    "Use the dev-test set to check your progress.\n",
    "Once you are satisfied with your classifier, check its final performance on the test set.\n",
    "How does the performance on the test set compare to the performance on the dev-test set? Is this what you'd expect?"
   ]
  },
  {
   "cell_type": "markdown",
   "id": "1ff5f353",
   "metadata": {},
   "source": [
    "Import the Python libraries"
   ]
  },
  {
   "cell_type": "code",
   "execution_count": 48,
   "id": "68daf45b",
   "metadata": {},
   "outputs": [
    {
     "data": {
      "text/plain": [
       "['female.txt', 'male.txt']"
      ]
     },
     "execution_count": 48,
     "metadata": {},
     "output_type": "execute_result"
    }
   ],
   "source": [
    "import nltk\n",
    "from nltk.corpus import names\n",
    "from nltk.classify import NaiveBayesClassifier\n",
    "\n",
    "# checking the files in the name corpus\n",
    "names = nltk.corpus.names\n",
    "names.fileids()"
   ]
  },
  {
   "cell_type": "markdown",
   "id": "629f89fb",
   "metadata": {},
   "source": [
    "List the names both male and female below:"
   ]
  },
  {
   "cell_type": "code",
   "execution_count": 49,
   "id": "83214760",
   "metadata": {},
   "outputs": [
    {
     "data": {
      "text/plain": [
       "['Aamir',\n",
       " 'Aaron',\n",
       " 'Abbey',\n",
       " 'Abbie',\n",
       " 'Abbot',\n",
       " 'Abbott',\n",
       " 'Abby',\n",
       " 'Abdel',\n",
       " 'Abdul',\n",
       " 'Abdulkarim']"
      ]
     },
     "execution_count": 49,
     "metadata": {},
     "output_type": "execute_result"
    }
   ],
   "source": [
    "names.words('male.txt')[0:10]"
   ]
  },
  {
   "cell_type": "code",
   "execution_count": 50,
   "id": "4ef92dfc",
   "metadata": {},
   "outputs": [
    {
     "data": {
      "text/plain": [
       "['Abagael',\n",
       " 'Abagail',\n",
       " 'Abbe',\n",
       " 'Abbey',\n",
       " 'Abbi',\n",
       " 'Abbie',\n",
       " 'Abby',\n",
       " 'Abigael',\n",
       " 'Abigail',\n",
       " 'Abigale']"
      ]
     },
     "execution_count": 50,
     "metadata": {},
     "output_type": "execute_result"
    }
   ],
   "source": [
    "names.words('female.txt')[0:10]"
   ]
  },
  {
   "cell_type": "markdown",
   "id": "2805a781",
   "metadata": {},
   "source": [
    "Add gender label to the names"
   ]
  },
  {
   "cell_type": "code",
   "execution_count": 52,
   "id": "d3f83571",
   "metadata": {},
   "outputs": [],
   "source": [
    "label_names = [(name,\"male\") for name in names.words(\"male.txt\")] + [(name,\"female\") for name in names.words(\"female.txt\")] \n"
   ]
  },
  {
   "cell_type": "code",
   "execution_count": 53,
   "id": "e5b18aa4",
   "metadata": {},
   "outputs": [
    {
     "name": "stdout",
     "output_type": "stream",
     "text": [
      "[('Aamir', 'male'), ('Aaron', 'male'), ('Abbey', 'male'), ('Abbie', 'male'), ('Abbot', 'male'), ('Abbott', 'male'), ('Abby', 'male'), ('Abdel', 'male'), ('Abdul', 'male'), ('Abdulkarim', 'male')]\n"
     ]
    }
   ],
   "source": [
    "print(label_names[0:10])"
   ]
  },
  {
   "cell_type": "markdown",
   "id": "b0a87458",
   "metadata": {},
   "source": [
    "Split the dataset"
   ]
  },
  {
   "cell_type": "code",
   "execution_count": 54,
   "id": "16c54bca",
   "metadata": {},
   "outputs": [],
   "source": [
    "# Test set 500 words\n",
    "test_split = label_names[:500]\n",
    "\n",
    "# Dev-Test set 500 words\n",
    "devtest_split = label_names[500:1000]\n",
    "\n",
    "# Training set remaining words\n",
    "train_split = label_names[1000:]"
   ]
  },
  {
   "cell_type": "markdown",
   "id": "c723379f",
   "metadata": {},
   "source": [
    "Define a function to identify gender based on the word"
   ]
  },
  {
   "cell_type": "code",
   "execution_count": 55,
   "id": "d01066f6",
   "metadata": {},
   "outputs": [
    {
     "data": {
      "text/plain": [
       "[({'last_letter ': 'i'}, 'male'),\n",
       " ({'last_letter ': 'o'}, 'male'),\n",
       " ({'last_letter ': 'd'}, 'male'),\n",
       " ({'last_letter ': 'e'}, 'male'),\n",
       " ({'last_letter ': 'n'}, 'male'),\n",
       " ({'last_letter ': 'n'}, 'male'),\n",
       " ({'last_letter ': 'n'}, 'male'),\n",
       " ({'last_letter ': 'd'}, 'male'),\n",
       " ({'last_letter ': 't'}, 'male'),\n",
       " ({'last_letter ': 'd'}, 'male')]"
      ]
     },
     "execution_count": 55,
     "metadata": {},
     "output_type": "execute_result"
    }
   ],
   "source": [
    "def gender(word):\n",
    "    return {\"last_letter \": word[-1]}\n",
    "\n",
    "train_data = [(gender(n), g) for (n,g) in train_split]\n",
    "train_data[0:10]"
   ]
  },
  {
   "cell_type": "markdown",
   "id": "223f37cb",
   "metadata": {},
   "source": [
    "Run the training set thru the model"
   ]
  },
  {
   "cell_type": "code",
   "execution_count": 56,
   "id": "96b24278",
   "metadata": {},
   "outputs": [],
   "source": [
    "model = NaiveBayesClassifier.train(train_data)"
   ]
  },
  {
   "cell_type": "markdown",
   "id": "f7a6a1b3",
   "metadata": {},
   "source": [
    "Test the model with a female name"
   ]
  },
  {
   "cell_type": "code",
   "execution_count": 57,
   "id": "11469c79",
   "metadata": {},
   "outputs": [
    {
     "data": {
      "text/plain": [
       "'female'"
      ]
     },
     "execution_count": 57,
     "metadata": {},
     "output_type": "execute_result"
    }
   ],
   "source": [
    "model.classify(gender(\"Mary\"))"
   ]
  },
  {
   "cell_type": "markdown",
   "id": "2aac6aca",
   "metadata": {},
   "source": [
    "Test the model using a male name"
   ]
  },
  {
   "cell_type": "code",
   "execution_count": 58,
   "id": "44d64596",
   "metadata": {},
   "outputs": [
    {
     "data": {
      "text/plain": [
       "'male'"
      ]
     },
     "execution_count": 58,
     "metadata": {},
     "output_type": "execute_result"
    }
   ],
   "source": [
    "model.classify(gender(\"Mark\"))"
   ]
  },
  {
   "cell_type": "markdown",
   "id": "e3cad21e",
   "metadata": {},
   "source": [
    "Run the performance test"
   ]
  },
  {
   "cell_type": "code",
   "execution_count": 61,
   "id": "a75f5559",
   "metadata": {},
   "outputs": [
    {
     "name": "stdout",
     "output_type": "stream",
     "text": [
      "\u001b[1mThe accuracy for the devtest_set is: \u001b[0m0.468\n",
      "\u001b[1mThe accuracy for the test_set is: \u001b[0m0.454\n"
     ]
    }
   ],
   "source": [
    "# Performance devtest\n",
    "train_set = [(gender(n), g) for (n,g) in train_split]\n",
    "devtest_set = [(gender(n), g) for (n,g) in devtest_split]\n",
    "classifier1 = nltk.NaiveBayesClassifier.train(train_set)\n",
    "\n",
    "devtest_accuracy = nltk.classify.accuracy(classifier1, devtest_set)\n",
    "print(\"\\033[1m\" + \"The accuracy for the devtest_set is: \"+ \"\\033[0m\" + str(devtest_accuracy))\n",
    "\n",
    "# Performance test \n",
    "test_set = [(gender(n), g) for (n,g) in test_split]\n",
    "test_set2 = nltk.classify.accuracy(classifier1, test_set)\n",
    "print(\"\\033[1m\" + \"The accuracy for the test_set is: \" + \"\\033[0m\" + str(test_set2))"
   ]
  },
  {
   "cell_type": "code",
   "execution_count": null,
   "id": "e5d3fc51",
   "metadata": {},
   "outputs": [],
   "source": []
  }
 ],
 "metadata": {
  "kernelspec": {
   "display_name": "Python 3 (ipykernel)",
   "language": "python",
   "name": "python3"
  },
  "language_info": {
   "codemirror_mode": {
    "name": "ipython",
    "version": 3
   },
   "file_extension": ".py",
   "mimetype": "text/x-python",
   "name": "python",
   "nbconvert_exporter": "python",
   "pygments_lexer": "ipython3",
   "version": "3.9.12"
  }
 },
 "nbformat": 4,
 "nbformat_minor": 5
}
