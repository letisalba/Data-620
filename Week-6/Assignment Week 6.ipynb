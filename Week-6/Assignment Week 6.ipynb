{
 "cells": [
  {
   "cell_type": "markdown",
   "id": "04b8ef1f",
   "metadata": {},
   "source": [
    "Data 620 - Week 6 Assignment\n",
    "Leticia Salazar\n",
    "February 27 - March 5, 2023"
   ]
  },
  {
   "cell_type": "markdown",
   "id": "cc51b729",
   "metadata": {},
   "source": [
    "Here is a dataset that shows a simple 2-node network:  the attendance of 18 Southern Women at 14 social events:\n",
    "\n",
    "1. Brief Description. Small “musty” datasets like that from this 1941 study have proven very valuable in testing and comparing new network algorithms.\n",
    "2. Dataset: http://vlado.fmf.uni-lj.si/pub/networks/data/Ucinet/davis.dat\n",
    "3. Python code to create dataset: https://networkx.github.io/documentation/stable/auto_examples/algorithms/plot_davis_club.html\n",
    "\n",
    "What can you infer about the relationships between (1) the women, and (2) the social events?  \n",
    "Please provide your code and analysis in an Jupyter notebook stored in your GitHub repository.\n",
    "You may work in a small group on this project.\n",
    "\n",
    "Due end of day Monday, 10/7."
   ]
  }
 ],
 "metadata": {
  "kernelspec": {
   "display_name": "Python 3 (ipykernel)",
   "language": "python",
   "name": "python3"
  },
  "language_info": {
   "codemirror_mode": {
    "name": "ipython",
    "version": 3
   },
   "file_extension": ".py",
   "mimetype": "text/x-python",
   "name": "python",
   "nbconvert_exporter": "python",
   "pygments_lexer": "ipython3",
   "version": "3.9.13"
  }
 },
 "nbformat": 4,
 "nbformat_minor": 5
}
