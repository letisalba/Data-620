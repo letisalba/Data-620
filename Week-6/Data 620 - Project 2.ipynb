{
 "cells": [
  {
   "cell_type": "markdown",
   "id": "a8bc49ba",
   "metadata": {},
   "source": [
    "### Data 620 - Project 2\n",
    "### Leticia Salazar\n",
    "### March 5, 2023"
   ]
  },
  {
   "cell_type": "markdown",
   "id": "44a52171",
   "metadata": {},
   "source": [
    "#### Task:\n",
    "\n",
    "1. Identify a large 2-node network dataset—you can start with a dataset in a repository.  Your data should meet the criteria that it consists of ties between and not within two (or more) distinct groups.\n",
    "2. Reduce the size of the network using a method such as the island method described in chapter 4 of social network analysis.\n",
    "3. What can you infer about each of the distinct groups?\n",
    "\n",
    "You may work in a small group on the project.\n",
    "Your code and analysis should be delivered in an IPython Notebook by end of day Monday 10/14. "
   ]
  },
  {
   "cell_type": "code",
   "execution_count": null,
   "id": "9de0e0fc",
   "metadata": {},
   "outputs": [],
   "source": []
  }
 ],
 "metadata": {
  "kernelspec": {
   "display_name": "Python 3 (ipykernel)",
   "language": "python",
   "name": "python3"
  },
  "language_info": {
   "codemirror_mode": {
    "name": "ipython",
    "version": 3
   },
   "file_extension": ".py",
   "mimetype": "text/x-python",
   "name": "python",
   "nbconvert_exporter": "python",
   "pygments_lexer": "ipython3",
   "version": "3.9.13"
  }
 },
 "nbformat": 4,
 "nbformat_minor": 5
}
