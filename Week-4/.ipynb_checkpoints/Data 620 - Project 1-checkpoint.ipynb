{
 "cells": [
  {
   "cell_type": "markdown",
   "id": "6201fe80",
   "metadata": {},
   "source": [
    "### Data 620 - Project 1\n",
    "### Bikram Barua and Leticia Salazar\n",
    "### February 19, 2023"
   ]
  },
  {
   "cell_type": "markdown",
   "id": "2e411d20",
   "metadata": {},
   "source": [
    "For your first project, you are asked to:\n",
    "1. Identify and load a network dataset that has some categorical information available for each node.\n",
    "2. For each of the nodes in the dataset, calculate degree centrality and eigenvector centrality.\n",
    "3. Compare your centrality measures across your categorical groups.\n",
    "\n",
    "For example, using the dataset from a study of romantic relationships among high school students in Columbus, Ohio [http://researchnews.osu.edu/archive/chains.htm], you might want to determine if there are any differences in your calculated centrality measures between the two sexes.  You might use a t-test or another statistical measure to support your findings."
   ]
  },
  {
   "cell_type": "markdown",
   "id": "8e8fcdfd",
   "metadata": {},
   "source": [
    "#### Data source:\n",
    "\n",
    "We obtained the data set from the Awesome Democracy Data on [GitHub](https://github.com/andrewcstewart/awesome-democracy-data)\n",
    "\n",
    "\t\n",
    "This data file contains constituency (state-level) returns for elections to the U.S. presidency from 1976 to 2020."
   ]
  },
  {
   "cell_type": "markdown",
   "id": "6a836ad9",
   "metadata": {},
   "source": [
    "#### Load libraries:"
   ]
  },
  {
   "cell_type": "code",
   "execution_count": 8,
   "id": "77095250",
   "metadata": {},
   "outputs": [],
   "source": [
    "# data manipulation\n",
    "import pandas as pd\n",
    "import numpy as np\n",
    "\n",
    "# data viz\n",
    "import networkx as nx\n",
    "import matplotlib.pyplot as plt"
   ]
  },
  {
   "cell_type": "code",
   "execution_count": 9,
   "id": "2540b2c6",
   "metadata": {},
   "outputs": [
    {
     "name": "stdout",
     "output_type": "stream",
     "text": [
      "   year    state state_po  state_fips  state_cen  state_ic        office  \\\n",
      "0  1976  ALABAMA       AL           1         63        41  US PRESIDENT   \n",
      "1  1976  ALABAMA       AL           1         63        41  US PRESIDENT   \n",
      "2  1976  ALABAMA       AL           1         63        41  US PRESIDENT   \n",
      "3  1976  ALABAMA       AL           1         63        41  US PRESIDENT   \n",
      "4  1976  ALABAMA       AL           1         63        41  US PRESIDENT   \n",
      "5  1976  ALABAMA       AL           1         63        41  US PRESIDENT   \n",
      "\n",
      "                 candidate              party_detailed writein  \\\n",
      "0            CARTER, JIMMY                    DEMOCRAT   False   \n",
      "1             FORD, GERALD                  REPUBLICAN   False   \n",
      "2           MADDOX, LESTER  AMERICAN INDEPENDENT PARTY   False   \n",
      "3  BUBAR, BENJAMIN \"\"BEN\"\"                 PROHIBITION   False   \n",
      "4                HALL, GUS         COMMUNIST PARTY USE   False   \n",
      "5          MACBRIDE, ROGER                 LIBERTARIAN   False   \n",
      "\n",
      "   candidatevotes  totalvotes   version  notes party_simplified  \n",
      "0          659170     1182850  20210113    NaN         DEMOCRAT  \n",
      "1          504070     1182850  20210113    NaN       REPUBLICAN  \n",
      "2            9198     1182850  20210113    NaN            OTHER  \n",
      "3            6669     1182850  20210113    NaN            OTHER  \n",
      "4            1954     1182850  20210113    NaN            OTHER  \n",
      "5            1481     1182850  20210113    NaN      LIBERTARIAN  \n"
     ]
    }
   ],
   "source": [
    "df = pd.read_csv(\"https://raw.githubusercontent.com/letisalba/Data-620/master/Week-4/1976-2020-president.csv\")\n",
    "print(df.head(6))"
   ]
  },
  {
   "cell_type": "code",
   "execution_count": 10,
   "id": "5e415d60",
   "metadata": {},
   "outputs": [
    {
     "data": {
      "text/plain": [
       "(4287, 15)"
      ]
     },
     "execution_count": 10,
     "metadata": {},
     "output_type": "execute_result"
    }
   ],
   "source": [
    "df.shape"
   ]
  },
  {
   "cell_type": "code",
   "execution_count": 11,
   "id": "0af2876a",
   "metadata": {},
   "outputs": [
    {
     "data": {
      "text/plain": [
       "<bound method NDFrame.describe of       year    state state_po  state_fips  state_cen  state_ic        office  \\\n",
       "0     1976  ALABAMA       AL           1         63        41  US PRESIDENT   \n",
       "1     1976  ALABAMA       AL           1         63        41  US PRESIDENT   \n",
       "2     1976  ALABAMA       AL           1         63        41  US PRESIDENT   \n",
       "3     1976  ALABAMA       AL           1         63        41  US PRESIDENT   \n",
       "4     1976  ALABAMA       AL           1         63        41  US PRESIDENT   \n",
       "...    ...      ...      ...         ...        ...       ...           ...   \n",
       "4282  2020  WYOMING       WY          56         83        68  US PRESIDENT   \n",
       "4283  2020  WYOMING       WY          56         83        68  US PRESIDENT   \n",
       "4284  2020  WYOMING       WY          56         83        68  US PRESIDENT   \n",
       "4285  2020  WYOMING       WY          56         83        68  US PRESIDENT   \n",
       "4286  2020  WYOMING       WY          56         83        68  US PRESIDENT   \n",
       "\n",
       "                    candidate              party_detailed writein  \\\n",
       "0               CARTER, JIMMY                    DEMOCRAT   False   \n",
       "1                FORD, GERALD                  REPUBLICAN   False   \n",
       "2              MADDOX, LESTER  AMERICAN INDEPENDENT PARTY   False   \n",
       "3     BUBAR, BENJAMIN \"\"BEN\"\"                 PROHIBITION   False   \n",
       "4                   HALL, GUS         COMMUNIST PARTY USE   False   \n",
       "...                       ...                         ...     ...   \n",
       "4282            JORGENSEN, JO                 LIBERTARIAN   False   \n",
       "4283            PIERCE, BROCK                 INDEPENDENT   False   \n",
       "4284                      NaN                         NaN    True   \n",
       "4285                OVERVOTES                         NaN   False   \n",
       "4286               UNDERVOTES                         NaN   False   \n",
       "\n",
       "      candidatevotes  totalvotes   version  notes party_simplified  \n",
       "0             659170     1182850  20210113    NaN         DEMOCRAT  \n",
       "1             504070     1182850  20210113    NaN       REPUBLICAN  \n",
       "2               9198     1182850  20210113    NaN            OTHER  \n",
       "3               6669     1182850  20210113    NaN            OTHER  \n",
       "4               1954     1182850  20210113    NaN            OTHER  \n",
       "...              ...         ...       ...    ...              ...  \n",
       "4282            5768      278503  20210113    NaN      LIBERTARIAN  \n",
       "4283            2208      278503  20210113    NaN            OTHER  \n",
       "4284            1739      278503  20210113    NaN            OTHER  \n",
       "4285             279      278503  20210113    NaN            OTHER  \n",
       "4286            1459      278503  20210113    NaN            OTHER  \n",
       "\n",
       "[4287 rows x 15 columns]>"
      ]
     },
     "execution_count": 11,
     "metadata": {},
     "output_type": "execute_result"
    }
   ],
   "source": [
    "df.describe"
   ]
  },
  {
   "cell_type": "code",
   "execution_count": null,
   "id": "0c7f3de1",
   "metadata": {},
   "outputs": [],
   "source": []
  },
  {
   "cell_type": "code",
   "execution_count": null,
   "id": "78c24a67",
   "metadata": {},
   "outputs": [],
   "source": []
  }
 ],
 "metadata": {
  "kernelspec": {
   "display_name": "Python 3 (ipykernel)",
   "language": "python",
   "name": "python3"
  },
  "language_info": {
   "codemirror_mode": {
    "name": "ipython",
    "version": 3
   },
   "file_extension": ".py",
   "mimetype": "text/x-python",
   "name": "python",
   "nbconvert_exporter": "python",
   "pygments_lexer": "ipython3",
   "version": "3.9.13"
  }
 },
 "nbformat": 4,
 "nbformat_minor": 5
}
