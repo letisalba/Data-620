{
 "cells": [
  {
   "cell_type": "markdown",
   "id": "6201fe80",
   "metadata": {},
   "source": [
    "### Data 620 - Project 1\n",
    "### Bikram Barua and Leticia Salazar\n",
    "### February 19, 2023"
   ]
  },
  {
   "cell_type": "markdown",
   "id": "2e411d20",
   "metadata": {},
   "source": [
    "#### Task: \n",
    "\n",
    "For your first project, you are asked to:\n",
    "1. Identify and load a network dataset that has some categorical information available for each node.\n",
    "2. For each of the nodes in the dataset, calculate degree centrality and eigenvector centrality.\n",
    "3. Compare your centrality measures across your categorical groups.\n",
    "\n",
    "For example, using the dataset from a study of romantic relationships among high school students in Columbus, Ohio [http://researchnews.osu.edu/archive/chains.htm], you might want to determine if there are any differences in your calculated centrality measures between the two sexes.  You might use a t-test or another statistical measure to support your findings."
   ]
  },
  {
   "cell_type": "markdown",
   "id": "8e8fcdfd",
   "metadata": {},
   "source": [
    "#### Data source:\n",
    "\n",
    "The dataset selected for project 1 was obtained from [Network Repository](https://networkrepository.com/socfb-Cornell5.php) consisting of people (nodes) and their friendship ties (edges) on Facebook. The data is available in a matrix market, typically a sparse format used to represent a matrix (.mtx file). With these types of files, the first line contains a header with information about the matrix, dimensions, and symmetry of the matrix. The following lines are non-zero entries of the matrix in row-major order, with each following line containing the row index, column index, and a value of a single non-zero entry.\n",
    "\n",
    "Below are some specs from this dataset provided by the repository:\n",
    "\n",
    "* Nodes: 18.7K\n",
    "* Edges: 790.8K\n",
    "* Density: 0.00454239\n",
    "* Maximum degree: 3.2K\n",
    "* Minimum degree: 1\n",
    "* Average degree: 84\n",
    "* Assortativity: 0.01805\n",
    "* Number of triangles: 18.3M\n",
    "* Average number of triangles: 982\n",
    "* Maximum number of triangles: 77.2K\n",
    "* Average clustering coefficient: 0.219051\n",
    "* Fraction of closed triangles: 0.135615\n",
    "* Maximum k-core: 85\n",
    "* Lower bound of Maximum Clique: 13"
   ]
  },
  {
   "cell_type": "markdown",
   "id": "0d8c7a20",
   "metadata": {},
   "source": [
    "#### Project Objectives: \n",
    "\n",
    "We will be focusing to answer the following while we explore, analyze and create visualizations for our data.\n",
    "\n",
    "* Which centrality measure would be the most relevant in the dataset?\n",
    "* What would these centrality measures help us to predict?\n",
    "* What statistical tests can we apply to identify the best fit centrality measure?"
   ]
  },
  {
   "cell_type": "markdown",
   "id": "6a836ad9",
   "metadata": {},
   "source": [
    "#### Load libraries:\n",
    "\n",
    "Below are the libraries used"
   ]
  },
  {
   "cell_type": "code",
   "execution_count": 1,
   "id": "77095250",
   "metadata": {},
   "outputs": [],
   "source": [
    "# data manipulation\n",
    "import pandas as pd\n",
    "import numpy as np\n",
    "import scipy.io #for mtx files\n",
    "from tqdm import tqdm #Instantly make your loops show a smart progress meter \n",
    "\n",
    "# data visualization\n",
    "import networkx as nx\n",
    "import matplotlib.pyplot as plt"
   ]
  },
  {
   "cell_type": "markdown",
   "id": "da8c6233",
   "metadata": {},
   "source": [
    "#### Load the data:\n",
    "Data exploration of the data is performed below to view the size of the datasets we will be working with. As mentioned, the original file had to be converted to a csv file for us to work with the dataset."
   ]
  },
  {
   "cell_type": "code",
   "execution_count": 2,
   "id": "e965d68c",
   "metadata": {},
   "outputs": [],
   "source": [
    "# Don't mind this I am working on reading the mtx file from github\n",
    "#df = scipy.io.mmread('https://raw.githubusercontent.com/letisalba/Data-620/master/Week-4/Cornell5.mtx')\n",
    "#df = mmread(Cornell5.mtx)"
   ]
  },
  {
   "cell_type": "code",
   "execution_count": 2,
   "id": "2540b2c6",
   "metadata": {},
   "outputs": [
    {
     "name": "stdout",
     "output_type": "stream",
     "text": [
      "   People  Friendships\n",
      "0     184            1\n",
      "1     344            1\n",
      "2     635            1\n",
      "3     867            1\n",
      "4    1296            1\n",
      "5    1358            1\n",
      "6    1425            1\n",
      "7    1501            1\n",
      "8    1505            1\n",
      "9    1845            1\n"
     ]
    }
   ],
   "source": [
    "df = pd.read_csv('https://raw.githubusercontent.com/letisalba/Data-620/master/Week-4/fb-cornell5.csv', header = None)\n",
    "# rename column headers\n",
    "df.columns = [\"People\", \"Friendships\"]\n",
    "print(df.head(10))"
   ]
  },
  {
   "cell_type": "markdown",
   "id": "ed8b7992",
   "metadata": {},
   "source": [
    "The dataset is comprised of 790775 variables "
   ]
  },
  {
   "cell_type": "code",
   "execution_count": 3,
   "id": "5e415d60",
   "metadata": {},
   "outputs": [
    {
     "data": {
      "text/plain": [
       "790776"
      ]
     },
     "execution_count": 3,
     "metadata": {},
     "output_type": "execute_result"
    }
   ],
   "source": [
    "# dimension of data\n",
    "len(df)"
   ]
  },
  {
   "cell_type": "markdown",
   "id": "63b4e4aa",
   "metadata": {},
   "source": [
    "#### Create NetworkX Graph"
   ]
  },
  {
   "cell_type": "code",
   "execution_count": 5,
   "id": "0c7f3de1",
   "metadata": {},
   "outputs": [],
   "source": [
    "# start networkX \n",
    "G = nx.Graph()\n",
    "G.add_nodes_from(df)\n",
    "\n",
    "#G = nx.from_pandas_edgelist(df, source='People', target='Friendships')\n",
    "#fig, ax = plt.subplots(figsize=(10,8))\n",
    "#nx.draw_networkx(G, ax=ax)"
   ]
  },
  {
   "cell_type": "code",
   "execution_count": 6,
   "id": "72765c0e",
   "metadata": {},
   "outputs": [
    {
     "name": "stdout",
     "output_type": "stream",
     "text": [
      "Nodes =  18662  Edges =  790776\n"
     ]
    }
   ],
   "source": [
    "for i, elrow in df.iterrows():\n",
    "    G.add_node(elrow[0])\n",
    "    G.add_node(elrow[1])\n",
    "\n",
    "    if G.has_edge(elrow[0], elrow[1]):\n",
    "            # edge already exists, increase weight by one\n",
    "            G[elrow[0]][elrow[1]]['weight'] += 1\n",
    "    else:\n",
    "            # add new edge with weight 1\n",
    "            G.add_edge(elrow[0], elrow[1], weight = 1)\n",
    "\n",
    "\n",
    "G_nodes = G.number_of_nodes()\n",
    "G_edges = G.number_of_edges()\n",
    "print(\"Nodes = \", G_nodes, \" Edges = \",G_edges)"
   ]
  },
  {
   "cell_type": "code",
   "execution_count": 7,
   "id": "3dc7913a",
   "metadata": {},
   "outputs": [],
   "source": [
    "nx.write_gexf(G, 'project1-network.gexf')"
   ]
  },
  {
   "cell_type": "code",
   "execution_count": 8,
   "id": "ee498e78",
   "metadata": {},
   "outputs": [
    {
     "data": {
      "text/plain": [
       "[(184, 1, {'weight': 1}),\n",
       " (184, 5, {'weight': 1}),\n",
       " (184, 136, {'weight': 1}),\n",
       " (184, 226, {'weight': 1}),\n",
       " (184, 519, {'weight': 1})]"
      ]
     },
     "execution_count": 8,
     "metadata": {},
     "output_type": "execute_result"
    }
   ],
   "source": [
    "# Preview first 5 edges\n",
    "\n",
    "list(G.edges(data=True))[0:5]"
   ]
  },
  {
   "cell_type": "code",
   "execution_count": 9,
   "id": "eef40a72",
   "metadata": {},
   "outputs": [
    {
     "data": {
      "text/plain": [
       "[('People', {}),\n",
       " ('Friendships', {}),\n",
       " (184, {}),\n",
       " (1, {}),\n",
       " (344, {}),\n",
       " (635, {}),\n",
       " (867, {}),\n",
       " (1296, {}),\n",
       " (1358, {}),\n",
       " (1425, {})]"
      ]
     },
     "execution_count": 9,
     "metadata": {},
     "output_type": "execute_result"
    }
   ],
   "source": [
    "# Preview first 10 nodes\n",
    "list(G.nodes(data=True))[0:10]"
   ]
  },
  {
   "cell_type": "code",
   "execution_count": 12,
   "id": "e3a9bb2c",
   "metadata": {},
   "outputs": [
    {
     "ename": "KeyError",
     "evalue": "184",
     "output_type": "error",
     "traceback": [
      "\u001b[0;31m---------------------------------------------------------------------------\u001b[0m",
      "\u001b[0;31mKeyError\u001b[0m                                  Traceback (most recent call last)",
      "\u001b[0;32m/var/folders/xs/s7qlj6l16qj7704tpbyx6rr80000gn/T/ipykernel_1126/4140632284.py\u001b[0m in \u001b[0;36m<module>\u001b[0;34m\u001b[0m\n\u001b[1;32m      1\u001b[0m \u001b[0mpos\u001b[0m \u001b[0;34m=\u001b[0m \u001b[0mnx\u001b[0m\u001b[0;34m.\u001b[0m\u001b[0mspring_layout\u001b[0m\u001b[0;34m(\u001b[0m\u001b[0mdf\u001b[0m\u001b[0;34m)\u001b[0m\u001b[0;34m\u001b[0m\u001b[0;34m\u001b[0m\u001b[0m\n\u001b[0;32m----> 2\u001b[0;31m \u001b[0mbetCent\u001b[0m \u001b[0;34m=\u001b[0m \u001b[0mnx\u001b[0m\u001b[0;34m.\u001b[0m\u001b[0mbetweenness_centrality\u001b[0m\u001b[0;34m(\u001b[0m\u001b[0mdf\u001b[0m\u001b[0;34m,\u001b[0m \u001b[0mnormalized\u001b[0m\u001b[0;34m=\u001b[0m\u001b[0;32mTrue\u001b[0m\u001b[0;34m,\u001b[0m \u001b[0mendpoints\u001b[0m\u001b[0;34m=\u001b[0m\u001b[0;32mTrue\u001b[0m\u001b[0;34m)\u001b[0m\u001b[0;34m\u001b[0m\u001b[0;34m\u001b[0m\u001b[0m\n\u001b[0m\u001b[1;32m      3\u001b[0m \u001b[0mnode_color\u001b[0m \u001b[0;34m=\u001b[0m \u001b[0;34m[\u001b[0m\u001b[0;36m20000.0\u001b[0m \u001b[0;34m*\u001b[0m \u001b[0mdf\u001b[0m\u001b[0;34m.\u001b[0m\u001b[0mdegree\u001b[0m\u001b[0;34m(\u001b[0m\u001b[0mv\u001b[0m\u001b[0;34m)\u001b[0m \u001b[0;32mfor\u001b[0m \u001b[0mv\u001b[0m \u001b[0;32min\u001b[0m \u001b[0mdf\u001b[0m\u001b[0;34m]\u001b[0m\u001b[0;34m\u001b[0m\u001b[0;34m\u001b[0m\u001b[0m\n\u001b[1;32m      4\u001b[0m \u001b[0mnode_size\u001b[0m \u001b[0;34m=\u001b[0m  \u001b[0;34m[\u001b[0m\u001b[0mv\u001b[0m \u001b[0;34m*\u001b[0m \u001b[0;36m10000\u001b[0m \u001b[0;32mfor\u001b[0m \u001b[0mv\u001b[0m \u001b[0;32min\u001b[0m \u001b[0mbetCent\u001b[0m\u001b[0;34m.\u001b[0m\u001b[0mvalues\u001b[0m\u001b[0;34m(\u001b[0m\u001b[0;34m)\u001b[0m\u001b[0;34m]\u001b[0m\u001b[0;34m\u001b[0m\u001b[0;34m\u001b[0m\u001b[0m\n\u001b[1;32m      5\u001b[0m \u001b[0mplt\u001b[0m\u001b[0;34m.\u001b[0m\u001b[0mfigure\u001b[0m\u001b[0;34m(\u001b[0m\u001b[0mfigsize\u001b[0m\u001b[0;34m=\u001b[0m\u001b[0;34m(\u001b[0m\u001b[0;36m20\u001b[0m\u001b[0;34m,\u001b[0m\u001b[0;36m20\u001b[0m\u001b[0;34m)\u001b[0m\u001b[0;34m)\u001b[0m\u001b[0;34m\u001b[0m\u001b[0;34m\u001b[0m\u001b[0m\n",
      "\u001b[0;32m/opt/anaconda3/lib/python3.9/site-packages/networkx/utils/decorators.py\u001b[0m in \u001b[0;36mfunc\u001b[0;34m(_argmap__wrapper, *args, **kwargs)\u001b[0m\n\u001b[1;32m    843\u001b[0m \u001b[0;34m\u001b[0m\u001b[0m\n\u001b[1;32m    844\u001b[0m         \u001b[0;32mdef\u001b[0m \u001b[0mfunc\u001b[0m\u001b[0;34m(\u001b[0m\u001b[0;34m*\u001b[0m\u001b[0margs\u001b[0m\u001b[0;34m,\u001b[0m \u001b[0m__wrapper\u001b[0m\u001b[0;34m=\u001b[0m\u001b[0;32mNone\u001b[0m\u001b[0;34m,\u001b[0m \u001b[0;34m**\u001b[0m\u001b[0mkwargs\u001b[0m\u001b[0;34m)\u001b[0m\u001b[0;34m:\u001b[0m\u001b[0;34m\u001b[0m\u001b[0;34m\u001b[0m\u001b[0m\n\u001b[0;32m--> 845\u001b[0;31m             \u001b[0;32mreturn\u001b[0m \u001b[0margmap\u001b[0m\u001b[0;34m.\u001b[0m\u001b[0m_lazy_compile\u001b[0m\u001b[0;34m(\u001b[0m\u001b[0m__wrapper\u001b[0m\u001b[0;34m)\u001b[0m\u001b[0;34m(\u001b[0m\u001b[0;34m*\u001b[0m\u001b[0margs\u001b[0m\u001b[0;34m,\u001b[0m \u001b[0;34m**\u001b[0m\u001b[0mkwargs\u001b[0m\u001b[0;34m)\u001b[0m\u001b[0;34m\u001b[0m\u001b[0;34m\u001b[0m\u001b[0m\n\u001b[0m\u001b[1;32m    846\u001b[0m \u001b[0;34m\u001b[0m\u001b[0m\n\u001b[1;32m    847\u001b[0m         \u001b[0;31m# standard function-wrapping stuff\u001b[0m\u001b[0;34m\u001b[0m\u001b[0;34m\u001b[0m\u001b[0m\n",
      "\u001b[0;32m/opt/anaconda3/lib/python3.9/site-packages/networkx/utils/decorators.py\u001b[0m in \u001b[0;36margmap_betweenness_centrality_14\u001b[0;34m(G, k, normalized, weight, endpoints, seed)\u001b[0m\n\u001b[1;32m      2\u001b[0m \u001b[0;32mimport\u001b[0m \u001b[0mcollections\u001b[0m\u001b[0;34m\u001b[0m\u001b[0;34m\u001b[0m\u001b[0m\n\u001b[1;32m      3\u001b[0m \u001b[0;32mimport\u001b[0m \u001b[0mgzip\u001b[0m\u001b[0;34m\u001b[0m\u001b[0;34m\u001b[0m\u001b[0m\n\u001b[0;32m----> 4\u001b[0;31m \u001b[0;32mimport\u001b[0m \u001b[0minspect\u001b[0m\u001b[0;34m\u001b[0m\u001b[0;34m\u001b[0m\u001b[0m\n\u001b[0m\u001b[1;32m      5\u001b[0m \u001b[0;32mimport\u001b[0m \u001b[0mitertools\u001b[0m\u001b[0;34m\u001b[0m\u001b[0;34m\u001b[0m\u001b[0m\n\u001b[1;32m      6\u001b[0m \u001b[0;32mimport\u001b[0m \u001b[0mre\u001b[0m\u001b[0;34m\u001b[0m\u001b[0;34m\u001b[0m\u001b[0m\n",
      "\u001b[0;32m/opt/anaconda3/lib/python3.9/site-packages/networkx/algorithms/centrality/betweenness.py\u001b[0m in \u001b[0;36mbetweenness_centrality\u001b[0;34m(G, k, normalized, weight, endpoints, seed)\u001b[0m\n\u001b[1;32m    128\u001b[0m         \u001b[0;31m# single source shortest paths\u001b[0m\u001b[0;34m\u001b[0m\u001b[0;34m\u001b[0m\u001b[0m\n\u001b[1;32m    129\u001b[0m         \u001b[0;32mif\u001b[0m \u001b[0mweight\u001b[0m \u001b[0;32mis\u001b[0m \u001b[0;32mNone\u001b[0m\u001b[0;34m:\u001b[0m  \u001b[0;31m# use BFS\u001b[0m\u001b[0;34m\u001b[0m\u001b[0;34m\u001b[0m\u001b[0m\n\u001b[0;32m--> 130\u001b[0;31m             \u001b[0mS\u001b[0m\u001b[0;34m,\u001b[0m \u001b[0mP\u001b[0m\u001b[0;34m,\u001b[0m \u001b[0msigma\u001b[0m\u001b[0;34m,\u001b[0m \u001b[0m_\u001b[0m \u001b[0;34m=\u001b[0m \u001b[0m_single_source_shortest_path_basic\u001b[0m\u001b[0;34m(\u001b[0m\u001b[0mG\u001b[0m\u001b[0;34m,\u001b[0m \u001b[0ms\u001b[0m\u001b[0;34m)\u001b[0m\u001b[0;34m\u001b[0m\u001b[0;34m\u001b[0m\u001b[0m\n\u001b[0m\u001b[1;32m    131\u001b[0m         \u001b[0;32melse\u001b[0m\u001b[0;34m:\u001b[0m  \u001b[0;31m# use Dijkstra's algorithm\u001b[0m\u001b[0;34m\u001b[0m\u001b[0;34m\u001b[0m\u001b[0m\n\u001b[1;32m    132\u001b[0m             \u001b[0mS\u001b[0m\u001b[0;34m,\u001b[0m \u001b[0mP\u001b[0m\u001b[0;34m,\u001b[0m \u001b[0msigma\u001b[0m\u001b[0;34m,\u001b[0m \u001b[0m_\u001b[0m \u001b[0;34m=\u001b[0m \u001b[0m_single_source_dijkstra_path_basic\u001b[0m\u001b[0;34m(\u001b[0m\u001b[0mG\u001b[0m\u001b[0;34m,\u001b[0m \u001b[0ms\u001b[0m\u001b[0;34m,\u001b[0m \u001b[0mweight\u001b[0m\u001b[0;34m)\u001b[0m\u001b[0;34m\u001b[0m\u001b[0;34m\u001b[0m\u001b[0m\n",
      "\u001b[0;32m/opt/anaconda3/lib/python3.9/site-packages/networkx/algorithms/centrality/betweenness.py\u001b[0m in \u001b[0;36m_single_source_shortest_path_basic\u001b[0;34m(G, s)\u001b[0m\n\u001b[1;32m    274\u001b[0m                 \u001b[0mD\u001b[0m\u001b[0;34m[\u001b[0m\u001b[0mw\u001b[0m\u001b[0;34m]\u001b[0m \u001b[0;34m=\u001b[0m \u001b[0mDv\u001b[0m \u001b[0;34m+\u001b[0m \u001b[0;36m1\u001b[0m\u001b[0;34m\u001b[0m\u001b[0;34m\u001b[0m\u001b[0m\n\u001b[1;32m    275\u001b[0m             \u001b[0;32mif\u001b[0m \u001b[0mD\u001b[0m\u001b[0;34m[\u001b[0m\u001b[0mw\u001b[0m\u001b[0;34m]\u001b[0m \u001b[0;34m==\u001b[0m \u001b[0mDv\u001b[0m \u001b[0;34m+\u001b[0m \u001b[0;36m1\u001b[0m\u001b[0;34m:\u001b[0m  \u001b[0;31m# this is a shortest path, count paths\u001b[0m\u001b[0;34m\u001b[0m\u001b[0;34m\u001b[0m\u001b[0m\n\u001b[0;32m--> 276\u001b[0;31m                 \u001b[0msigma\u001b[0m\u001b[0;34m[\u001b[0m\u001b[0mw\u001b[0m\u001b[0;34m]\u001b[0m \u001b[0;34m+=\u001b[0m \u001b[0msigmav\u001b[0m\u001b[0;34m\u001b[0m\u001b[0;34m\u001b[0m\u001b[0m\n\u001b[0m\u001b[1;32m    277\u001b[0m                 \u001b[0mP\u001b[0m\u001b[0;34m[\u001b[0m\u001b[0mw\u001b[0m\u001b[0;34m]\u001b[0m\u001b[0;34m.\u001b[0m\u001b[0mappend\u001b[0m\u001b[0;34m(\u001b[0m\u001b[0mv\u001b[0m\u001b[0;34m)\u001b[0m  \u001b[0;31m# predecessors\u001b[0m\u001b[0;34m\u001b[0m\u001b[0;34m\u001b[0m\u001b[0m\n\u001b[1;32m    278\u001b[0m     \u001b[0;32mreturn\u001b[0m \u001b[0mS\u001b[0m\u001b[0;34m,\u001b[0m \u001b[0mP\u001b[0m\u001b[0;34m,\u001b[0m \u001b[0msigma\u001b[0m\u001b[0;34m,\u001b[0m \u001b[0mD\u001b[0m\u001b[0;34m\u001b[0m\u001b[0;34m\u001b[0m\u001b[0m\n",
      "\u001b[0;31mKeyError\u001b[0m: 184"
     ]
    }
   ],
   "source": [
    "pos = nx.spring_layout(df)\n",
    "betCent = nx.betweenness_centrality(df, normalized=True, endpoints=True)\n",
    "node_color = [20000.0 * df.degree(v) for v in df]\n",
    "node_size =  [v * 10000 for v in betCent.values()]\n",
    "plt.figure(figsize=(20,20))\n",
    "nx.draw_networkx(df, pos=pos, with_labels=False,\n",
    "                 node_color=node_color,\n",
    "                 node_size=node_size )\n",
    "plt.axis('off')\n",
    "sorted(betCent, key=betCent.get, reverse=True)[:5]"
   ]
  },
  {
   "cell_type": "code",
   "execution_count": null,
   "id": "812e5b5f",
   "metadata": {},
   "outputs": [],
   "source": []
  },
  {
   "cell_type": "code",
   "execution_count": null,
   "id": "56398c66",
   "metadata": {},
   "outputs": [],
   "source": []
  },
  {
   "cell_type": "code",
   "execution_count": null,
   "id": "fd5ec686",
   "metadata": {},
   "outputs": [],
   "source": []
  },
  {
   "cell_type": "code",
   "execution_count": null,
   "id": "31d6de2c",
   "metadata": {},
   "outputs": [],
   "source": []
  },
  {
   "cell_type": "code",
   "execution_count": null,
   "id": "17688ef5",
   "metadata": {},
   "outputs": [],
   "source": []
  },
  {
   "cell_type": "code",
   "execution_count": null,
   "id": "5dacb279",
   "metadata": {},
   "outputs": [],
   "source": []
  },
  {
   "cell_type": "code",
   "execution_count": null,
   "id": "39ec4b84",
   "metadata": {},
   "outputs": [],
   "source": []
  },
  {
   "cell_type": "code",
   "execution_count": null,
   "id": "ed45fd72",
   "metadata": {},
   "outputs": [],
   "source": []
  },
  {
   "cell_type": "code",
   "execution_count": null,
   "id": "bc3bcc70",
   "metadata": {},
   "outputs": [],
   "source": []
  },
  {
   "cell_type": "code",
   "execution_count": null,
   "id": "fc312233",
   "metadata": {},
   "outputs": [],
   "source": []
  },
  {
   "cell_type": "code",
   "execution_count": 21,
   "id": "0e5d39c3",
   "metadata": {},
   "outputs": [
    {
     "name": "stdout",
     "output_type": "stream",
     "text": [
      "        People  Degree_Cent  Friendships\n",
      "105721   17027         3156          337\n",
      "107116   17027         3156         8614\n",
      "107136   17027         3156         8723\n",
      "107135   17027         3156         8712\n",
      "107134   17027         3156         8711\n",
      "        People  Degree_Cent  Friendships\n",
      "757617    8916            1          789\n",
      "790115   10051            1         5082\n",
      "790537    9224            1         7670\n",
      "788694    3833            1         3036\n",
      "790775   18575            1        16538\n"
     ]
    }
   ],
   "source": [
    "# Calculate degree centrality\n",
    "degree = nx.degree(G)\n",
    "df_2 = pd.DataFrame(degree, columns = ['People','Degree_Cent'])\n",
    "df_2 = pd.merge(df_2, df, on='People', how='inner')\n",
    "df2 = df_2.sort_values('Degree_Cent', ascending = False)\n",
    "print(df2.head())\n",
    "print(df2.tail())"
   ]
  },
  {
   "cell_type": "code",
   "execution_count": 22,
   "id": "e5794fb8",
   "metadata": {},
   "outputs": [
    {
     "data": {
      "text/html": [
       "<div>\n",
       "<style scoped>\n",
       "    .dataframe tbody tr th:only-of-type {\n",
       "        vertical-align: middle;\n",
       "    }\n",
       "\n",
       "    .dataframe tbody tr th {\n",
       "        vertical-align: top;\n",
       "    }\n",
       "\n",
       "    .dataframe thead th {\n",
       "        text-align: right;\n",
       "    }\n",
       "</style>\n",
       "<table border=\"1\" class=\"dataframe\">\n",
       "  <thead>\n",
       "    <tr style=\"text-align: right;\">\n",
       "      <th></th>\n",
       "      <th>People</th>\n",
       "      <th>Eigenvec_Cent</th>\n",
       "      <th>Friendships</th>\n",
       "    </tr>\n",
       "  </thead>\n",
       "  <tbody>\n",
       "    <tr>\n",
       "      <th>789851</th>\n",
       "      <td>17058</td>\n",
       "      <td>3.558682e-58</td>\n",
       "      <td>4320</td>\n",
       "    </tr>\n",
       "    <tr>\n",
       "      <th>790752</th>\n",
       "      <td>15288</td>\n",
       "      <td>3.558682e-58</td>\n",
       "      <td>13467</td>\n",
       "    </tr>\n",
       "    <tr>\n",
       "      <th>790725</th>\n",
       "      <td>13542</td>\n",
       "      <td>3.558682e-58</td>\n",
       "      <td>11936</td>\n",
       "    </tr>\n",
       "    <tr>\n",
       "      <th>786310</th>\n",
       "      <td>3671</td>\n",
       "      <td>3.558682e-58</td>\n",
       "      <td>2127</td>\n",
       "    </tr>\n",
       "    <tr>\n",
       "      <th>789174</th>\n",
       "      <td>8416</td>\n",
       "      <td>3.558682e-58</td>\n",
       "      <td>3473</td>\n",
       "    </tr>\n",
       "  </tbody>\n",
       "</table>\n",
       "</div>"
      ],
      "text/plain": [
       "        People  Eigenvec_Cent  Friendships\n",
       "789851   17058   3.558682e-58         4320\n",
       "790752   15288   3.558682e-58        13467\n",
       "790725   13542   3.558682e-58        11936\n",
       "786310    3671   3.558682e-58         2127\n",
       "789174    8416   3.558682e-58         3473"
      ]
     },
     "execution_count": 22,
     "metadata": {},
     "output_type": "execute_result"
    }
   ],
   "source": [
    "# Calculate eigenvector centrality\n",
    "eigen = nx.eigenvector_centrality(G)\n",
    "df_3 = pd.DataFrame.from_dict(eigen, orient='index').reset_index()\n",
    "df_3.columns = ['People', 'Eigenvec_Cent']\n",
    "df_3 = pd.merge(df_3, df, on='People', how='inner')\n",
    "df_3 = df_3.sort_values('Eigenvec_Cent', ascending = False)\n",
    "df_3.head()"
   ]
  },
  {
   "cell_type": "code",
   "execution_count": null,
   "id": "68008466",
   "metadata": {},
   "outputs": [],
   "source": [
    "df_3.tail()"
   ]
  },
  {
   "cell_type": "code",
   "execution_count": 23,
   "id": "dcde94a4",
   "metadata": {},
   "outputs": [],
   "source": [
    "# Calculate closeness centrality\n",
    "df_4 = nx.closeness_centrality(G)"
   ]
  },
  {
   "cell_type": "code",
   "execution_count": null,
   "id": "e227000d",
   "metadata": {},
   "outputs": [],
   "source": []
  },
  {
   "cell_type": "code",
   "execution_count": null,
   "id": "b5d0fece",
   "metadata": {},
   "outputs": [],
   "source": []
  },
  {
   "cell_type": "code",
   "execution_count": null,
   "id": "f1721ff5",
   "metadata": {},
   "outputs": [],
   "source": []
  },
  {
   "cell_type": "code",
   "execution_count": null,
   "id": "0f5f3ee0",
   "metadata": {},
   "outputs": [],
   "source": []
  },
  {
   "cell_type": "code",
   "execution_count": null,
   "id": "c2725025",
   "metadata": {},
   "outputs": [],
   "source": []
  },
  {
   "cell_type": "code",
   "execution_count": null,
   "id": "a0653158",
   "metadata": {},
   "outputs": [],
   "source": []
  },
  {
   "cell_type": "markdown",
   "id": "7b34f61c",
   "metadata": {},
   "source": [
    "#### References:\n",
    "\n",
    "* Rossi, R. A., & Ahmed, N. K. (2015). The Network Data Repository with Interactive Graph Analytics and Visualization. Network Data Repository. Retrieved February 16, 2023, from https://networkrepository.com \n",
    "* AOMAR, A. A. I. T. (2020, August 2). Notes on graph theory - centrality measures. Medium. Retrieved February 17, 2023, from https://towardsdatascience.com/notes-on-graph-theory-centrality-measurements-e37d2e49550a \n",
    "* Disney, A. (2022, October 27). Social network analysis: Understanding centrality measures. Cambridge Intelligence. Retrieved February 18, 2023, from https://cambridge-intelligence.com/keylines-faqs-social-network-analysis/ \n",
    "* ArijitGayen@ArijitGayen. (2019, November 21). Network centrality measures in a graph using Networkx: Python. GeeksforGeeks. Retrieved February 18, 2023, from https://www.geeksforgeeks.org/network-centrality-measures-in-a-graph-using-networkx-python/ "
   ]
  }
 ],
 "metadata": {
  "kernelspec": {
   "display_name": "Python 3 (ipykernel)",
   "language": "python",
   "name": "python3"
  },
  "language_info": {
   "codemirror_mode": {
    "name": "ipython",
    "version": 3
   },
   "file_extension": ".py",
   "mimetype": "text/x-python",
   "name": "python",
   "nbconvert_exporter": "python",
   "pygments_lexer": "ipython3",
   "version": "3.9.13"
  }
 },
 "nbformat": 4,
 "nbformat_minor": 5
}
