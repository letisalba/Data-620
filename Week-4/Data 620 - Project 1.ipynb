{
 "cells": [
  {
   "cell_type": "markdown",
   "id": "6201fe80",
   "metadata": {},
   "source": [
    "### Data 620 - Project 1\n",
    "### Bikram Barua and Leticia Salazar\n",
    "### February 19, 2023"
   ]
  },
  {
   "cell_type": "markdown",
   "id": "2e411d20",
   "metadata": {},
   "source": [
    "#### Task: \n",
    "\n",
    "For your first project, you are asked to:\n",
    "1. Identify and load a network dataset that has some categorical information available for each node.\n",
    "2. For each of the nodes in the dataset, calculate degree centrality and eigenvector centrality.\n",
    "3. Compare your centrality measures across your categorical groups.\n",
    "\n",
    "For example, using the dataset from a study of romantic relationships among high school students in Columbus, Ohio [http://researchnews.osu.edu/archive/chains.htm], you might want to determine if there are any differences in your calculated centrality measures between the two sexes.  You might use a t-test or another statistical measure to support your findings."
   ]
  },
  {
   "attachments": {},
   "cell_type": "markdown",
   "id": "8e8fcdfd",
   "metadata": {},
   "source": [
    "#### Data source:\n",
    "\n",
    "The dataset selected for project 1 was obtained from Network Repository consisting of people (nodes) and their friendship ties (edges) on Facebook. The data is available in a matrix market, typically a sparse format used to represent a matrix (.mtx file). With these types of files, the first line contains a header with information about the matrix, dimensions, and symmetry of the matrix. The following lines are non-zero entries of the matrix in row-major order, with each following line containing the row index, column index, and a value of a single non-zero entry.\n",
    "\n",
    "Below are some specs from this dataset provided by the repository:\n",
    "\n",
    "* Nodes\t-> 18.7K\n",
    "* Edges\t-> 790.8K\n",
    "* Density -> 0.00454239\n",
    "* Maximum degree -> 3.2K\n",
    "* Minimum degree -> 1\n",
    "* Average degree -> 84\n",
    "* Assortativity  -> 0.01805\n",
    "* Number of triangles -> 18.3M\n",
    "* Average number of triangles -> 982\n",
    "* Maximum number of triangles -> 77.2K\n",
    "* Average clustering coefficient -> 0.219051\n",
    "* Fraction of closed triangles -> 0.135615\n",
    "* Maximum k-core -> 85\n",
    "* Lower bound of Maximum Clique -> 13"
   ]
  },
  {
   "cell_type": "markdown",
   "id": "aef19b71",
   "metadata": {},
   "source": [
    "#### Project Objectives: \n",
    "\n",
    "We will be focusing to answer the following while we explore, analyze and create visualizations for our data.\n",
    "\n",
    "* Which centrality measure would be the most relevant in the dataset?\n",
    "* What would these centrality measures help us to predict?\n",
    "* What statistical tests can we apply to identify the best fit centrality measure?"
   ]
  },
  {
   "cell_type": "markdown",
   "id": "6a836ad9",
   "metadata": {},
   "source": [
    "#### Load libraries:\n",
    "\n",
    "Below are the libraries used"
   ]
  },
  {
   "cell_type": "code",
   "execution_count": 2,
   "id": "77095250",
   "metadata": {},
   "outputs": [],
   "source": [
    "# data manipulation\n",
    "import pandas as pd\n",
    "import numpy as np\n",
    "import scipy.io #for mtx files\n",
    "\n",
    "# data visualization\n",
    "import networkx as nx\n",
    "import matplotlib.pyplot as plt"
   ]
  },
  {
   "cell_type": "markdown",
   "id": "fa31f634",
   "metadata": {},
   "source": [
    "#### Load the data:\n",
    "Data exploration of the data is performed below to view the size of the datasets we will be working with."
   ]
  },
  {
   "cell_type": "code",
   "execution_count": 18,
   "id": "2c96d3ec",
   "metadata": {},
   "outputs": [
    {
     "ename": "NameError",
     "evalue": "name 'socfb' is not defined",
     "output_type": "error",
     "traceback": [
      "\u001b[0;31m---------------------------------------------------------------------------\u001b[0m",
      "\u001b[0;31mNameError\u001b[0m                                 Traceback (most recent call last)",
      "\u001b[0;32m/var/folders/xs/s7qlj6l16qj7704tpbyx6rr80000gn/T/ipykernel_5334/2714509064.py\u001b[0m in \u001b[0;36m<module>\u001b[0;34m\u001b[0m\n\u001b[1;32m      2\u001b[0m \u001b[0;31m#M = scipy.io.mmread('/Users/letisalba/Desktop/Data-620/Week-4/socfb-Cornell5.mtx')\u001b[0m\u001b[0;34m\u001b[0m\u001b[0;34m\u001b[0m\u001b[0m\n\u001b[1;32m      3\u001b[0m \u001b[0;34m\u001b[0m\u001b[0m\n\u001b[0;32m----> 4\u001b[0;31m \u001b[0mdf\u001b[0m \u001b[0;34m=\u001b[0m \u001b[0mmmread\u001b[0m\u001b[0;34m(\u001b[0m\u001b[0msocfb\u001b[0m\u001b[0;34m-\u001b[0m\u001b[0mCornell5\u001b[0m\u001b[0;34m.\u001b[0m\u001b[0mmtx\u001b[0m\u001b[0;34m)\u001b[0m\u001b[0;34m\u001b[0m\u001b[0;34m\u001b[0m\u001b[0m\n\u001b[0m",
      "\u001b[0;31mNameError\u001b[0m: name 'socfb' is not defined"
     ]
    }
   ],
   "source": [
    "#M = scipy.io.mmread('/Users/letisalba/Desktop/Data-620/Week-4/socfb-Cornell5.mtx')\n",
    "df = mmread(socfb-Cornell5.mtx)"
   ]
  },
  {
   "cell_type": "code",
   "execution_count": 6,
   "id": "2540b2c6",
   "metadata": {},
   "outputs": [
    {
     "name": "stdout",
     "output_type": "stream",
     "text": [
      "   18660  18660.1  790777\n",
      "0    184        1     NaN\n",
      "1    344        1     NaN\n",
      "2    635        1     NaN\n",
      "3    867        1     NaN\n",
      "4   1296        1     NaN\n",
      "5   1358        1     NaN\n",
      "6   1425        1     NaN\n",
      "7   1501        1     NaN\n",
      "8   1505        1     NaN\n",
      "9   1845        1     NaN\n"
     ]
    }
   ],
   "source": [
    "df = pd.read_csv('https://raw.githubusercontent.com/letisalba/Data-620/master/Week-4/fb-cornell5.csv')\n",
    "print(df.head(10))"
   ]
  },
  {
   "cell_type": "code",
   "execution_count": 4,
   "id": "5e415d60",
   "metadata": {},
   "outputs": [
    {
     "data": {
      "text/plain": [
       "(790776, 3)"
      ]
     },
     "execution_count": 4,
     "metadata": {},
     "output_type": "execute_result"
    }
   ],
   "source": [
    "df.shape"
   ]
  },
  {
   "cell_type": "code",
   "execution_count": 5,
   "id": "0af2876a",
   "metadata": {},
   "outputs": [
    {
     "data": {
      "text/plain": [
       "<bound method NDFrame.describe of         18660  18660.1  790777\n",
       "0         184        1     NaN\n",
       "1         344        1     NaN\n",
       "2         635        1     NaN\n",
       "3         867        1     NaN\n",
       "4        1296        1     NaN\n",
       "...       ...      ...     ...\n",
       "790771  18655    18600     NaN\n",
       "790772  18608    18603     NaN\n",
       "790773  18612    18603     NaN\n",
       "790774  18638    18610     NaN\n",
       "790775  18653    18612     NaN\n",
       "\n",
       "[790776 rows x 3 columns]>"
      ]
     },
     "execution_count": 5,
     "metadata": {},
     "output_type": "execute_result"
    }
   ],
   "source": [
    "df.describe"
   ]
  },
  {
   "cell_type": "code",
   "execution_count": null,
   "id": "0c7f3de1",
   "metadata": {},
   "outputs": [],
   "source": []
  },
  {
   "attachments": {},
   "cell_type": "markdown",
   "id": "022247ef",
   "metadata": {},
   "source": [
    "#### References:\n",
    "\n",
    "* Rossi, R. A., & Ahmed, N. K. (2015). The Network Data Repository with Interactive Graph Analytics and Visualization. Network Data Repository. Retrieved February 16, 2023, from https://networkrepository.com \n",
    "* AOMAR, A. A. I. T. (2020, August 2). Notes on graph theory - centrality measures. Medium. Retrieved February 17, 2023, from https://towardsdatascience.com/notes-on-graph-theory-centrality-measurements-e37d2e49550a \n",
    "* Disney, A. (2022, October 27). Social network analysis: Understanding centrality measures. Cambridge Intelligence. Retrieved February 18, 2023, from https://cambridge-intelligence.com/keylines-faqs-social-network-analysis/ \n",
    "* ArijitGayen@ArijitGayen. (2019, November 21). Network centrality measures in a graph using Networkx: Python. GeeksforGeeks. Retrieved February 18, 2023, from https://www.geeksforgeeks.org/network-centrality-measures-in-a-graph-using-networkx-python/ "
   ]
  },
  {
   "cell_type": "code",
   "execution_count": null,
   "id": "5985bac4",
   "metadata": {},
   "outputs": [],
   "source": []
  }
 ],
 "metadata": {
  "kernelspec": {
   "display_name": "Python 3 (ipykernel)",
   "language": "python",
   "name": "python3"
  },
  "language_info": {
   "codemirror_mode": {
    "name": "ipython",
    "version": 3
   },
   "file_extension": ".py",
   "mimetype": "text/x-python",
   "name": "python",
   "nbconvert_exporter": "python",
   "pygments_lexer": "ipython3",
   "version": "3.9.13"
  }
 },
 "nbformat": 4,
 "nbformat_minor": 5
}
