{
 "cells": [
  {
   "cell_type": "markdown",
   "id": "6201fe80",
   "metadata": {},
   "source": [
    "### Data 620 - Project 1\n",
    "### Bikram Barua and Leticia Salazar\n",
    "### February 19, 2023"
   ]
  },
  {
   "cell_type": "markdown",
   "id": "2e411d20",
   "metadata": {},
   "source": [
    "For your first project, you are asked to:\n",
    "1. Identify and load a network dataset that has some categorical information available for each node.\n",
    "2. For each of the nodes in the dataset, calculate degree centrality and eigenvector centrality.\n",
    "3. Compare your centrality measures across your categorical groups.\n",
    "\n",
    "For example, using the dataset from a study of romantic relationships among high school students in Columbus, Ohio [http://researchnews.osu.edu/archive/chains.htm], you might want to determine if there are any differences in your calculated centrality measures between the two sexes.  You might use a t-test or another statistical measure to support your findings."
   ]
  },
  {
   "cell_type": "markdown",
   "id": "8e8fcdfd",
   "metadata": {},
   "source": [
    "#### Data source:\n",
    "\n",
    "We obtained the data set from the Awesome Democracy Data on [GitHub](https://github.com/andrewcstewart/awesome-democracy-data)\n",
    "\n",
    "\t\n",
    "This data file contains constituency (state-level) returns for elections to the U.S. presidency from 1976 to 2020."
   ]
  },
  {
   "cell_type": "markdown",
   "id": "6a836ad9",
   "metadata": {},
   "source": [
    "#### Load libraries:"
   ]
  },
  {
   "cell_type": "code",
   "execution_count": 1,
   "id": "77095250",
   "metadata": {},
   "outputs": [],
   "source": [
    "# data manipulation\n",
    "import pandas as pd\n",
    "import numpy as np\n",
    "\n",
    "# data viz\n",
    "import networkx as nx\n",
    "import matplotlib.pyplot as plt\n"
   ]
  },
  {
   "cell_type": "code",
   "execution_count": null,
   "id": "17431014",
   "metadata": {},
   "outputs": [],
   "source": []
  },
  {
   "cell_type": "code",
   "execution_count": 6,
   "id": "2540b2c6",
   "metadata": {},
   "outputs": [
    {
     "name": "stdout",
     "output_type": "stream",
     "text": [
      "  18660\\t18660\\t790777\n",
      "0             184\\t1\\t\n",
      "1             344\\t1\\t\n",
      "2             635\\t1\\t\n",
      "3             867\\t1\\t\n",
      "4            1296\\t1\\t\n",
      "5            1358\\t1\\t\n",
      "6            1425\\t1\\t\n",
      "7            1501\\t1\\t\n",
      "8            1505\\t1\\t\n",
      "9            1845\\t1\\t\n"
     ]
    }
   ],
   "source": [
    "df = pd.read_csv('https://raw.githubusercontent.com/letisalba/Data-620/master/Week-4/fb-cornell5.csv')\n",
    "print(df.head(10))"
   ]
  },
  {
   "cell_type": "code",
   "execution_count": 7,
   "id": "5e415d60",
   "metadata": {},
   "outputs": [
    {
     "data": {
      "text/plain": [
       "(790777, 1)"
      ]
     },
     "execution_count": 7,
     "metadata": {},
     "output_type": "execute_result"
    }
   ],
   "source": [
    "df.shape"
   ]
  },
  {
   "cell_type": "code",
   "execution_count": 8,
   "id": "0af2876a",
   "metadata": {},
   "outputs": [
    {
     "data": {
      "text/plain": [
       "<bound method NDFrame.describe of        18660\\t18660\\t790777\n",
       "0                  184\\t1\\t\n",
       "1                  344\\t1\\t\n",
       "2                  635\\t1\\t\n",
       "3                  867\\t1\\t\n",
       "4                 1296\\t1\\t\n",
       "...                     ...\n",
       "790772       18608\\t18603\\t\n",
       "790773       18612\\t18603\\t\n",
       "790774       18638\\t18610\\t\n",
       "790775       18653\\t18612\\t\n",
       "790776       18655\\t18653\\t\n",
       "\n",
       "[790777 rows x 1 columns]>"
      ]
     },
     "execution_count": 8,
     "metadata": {},
     "output_type": "execute_result"
    }
   ],
   "source": [
    "df.describe"
   ]
  },
  {
   "cell_type": "code",
   "execution_count": null,
   "id": "0c7f3de1",
   "metadata": {},
   "outputs": [],
   "source": []
  },
  {
   "cell_type": "code",
   "execution_count": null,
   "id": "78c24a67",
   "metadata": {},
   "outputs": [],
   "source": []
  }
 ],
 "metadata": {
  "kernelspec": {
   "display_name": "Python 3 (ipykernel)",
   "language": "python",
   "name": "python3"
  },
  "language_info": {
   "codemirror_mode": {
    "name": "ipython",
    "version": 3
   },
   "file_extension": ".py",
   "mimetype": "text/x-python",
   "name": "python",
   "nbconvert_exporter": "python",
   "pygments_lexer": "ipython3",
   "version": "3.9.13"
  }
 },
 "nbformat": 4,
 "nbformat_minor": 5
}
