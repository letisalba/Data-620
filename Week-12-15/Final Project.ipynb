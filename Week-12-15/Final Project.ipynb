{
 "cells": [
  {
   "cell_type": "markdown",
   "id": "17342237",
   "metadata": {},
   "source": [
    "### Data 620 - Final Project\n",
    "### Bikram Barua and Leticia Salazar\n",
    "### May 19, 2023"
   ]
  },
  {
   "attachments": {},
   "cell_type": "markdown",
   "id": "305b8b0f",
   "metadata": {},
   "source": [
    "### Task:\n",
    "\n",
    "Your project should incorporate one or both of the two main themes of this course: network analysis and text processing. You need to show all of your work in a coherent workflow, and in a reproducible format, such as an IPython Notebook or an R Markdown document. If you are building a model or models, explain how you evaluate the “goodness” of the chosen model and parameters."
   ]
  },
  {
   "cell_type": "markdown",
   "id": "a991b77d",
   "metadata": {},
   "source": [
    "## Sentiment Analysis on Trip Advisor Hotel Reviews"
   ]
  },
  {
   "cell_type": "markdown",
   "id": "d13c0e94",
   "metadata": {},
   "source": [
    "### The Dataset:\n",
    "\n",
    "The data was obtained from [Kaggle.com](https://www.kaggle.com/datasets/andrewmvd/trip-advisor-hotel-reviews?resource=download) and it consists on 20k reviews from Trip Advisor.\n",
    "\n",
    "* Data set has two columns Review and Rating\n",
    "    * Review column has the text of each review\n",
    "    * Rating column has rating values in integer form ranging from 1 - 5 stars"
   ]
  },
  {
   "cell_type": "markdown",
   "id": "30a7011e",
   "metadata": {},
   "source": [
    "### Project Plan / Goals:\n",
    "\n",
    "1. Identify the links between key travel related phrases and their related ranking sentiment\n",
    "2. Evaluate the relationship between the text contents and the sentiment rating\n",
    "\n",
    "    * Statistical Analysis:\n",
    "        1. Word frequency count\n",
    "        2. Percentage rating\n",
    "        3. Word cloud by rating\n",
    "        4. Review length\n",
    "        5. Top 20 most common words\n",
    "        \n",
    "    * Sentiment Analysis\n",
    "        Using sentiment analysis, we will attempt to classify reveiws as negative, netural or positive and examine the following questions:\n",
    "        1. Do useful review attributes affect rating?\n",
    "        2. Does review text affect the review attribute?\n",
    "        3. Can review text determine if a hotel received a high or low rating (stars)?"
   ]
  },
  {
   "cell_type": "markdown",
   "id": "1a407142",
   "metadata": {},
   "source": [
    "### Libraries\n",
    "\n",
    "Below are the libraries used for this project"
   ]
  },
  {
   "cell_type": "code",
   "execution_count": 1,
   "id": "43529fdf",
   "metadata": {},
   "outputs": [
    {
     "name": "stderr",
     "output_type": "stream",
     "text": [
      "[nltk_data] Downloading package punkt to /Users/letisalba/nltk_data...\n",
      "[nltk_data]   Package punkt is already up-to-date!\n"
     ]
    }
   ],
   "source": [
    "import warnings\n",
    "warnings.filterwarnings('ignore')\n",
    "\n",
    "%matplotlib inline\n",
    "import matplotlib.pyplot as plt\n",
    "import csv\n",
    "import pickle\n",
    "import seaborn as sns\n",
    "import pandas as pd\n",
    "import numpy as np\n",
    "import string\n",
    "import nltk\n",
    "nltk.download(\"punkt\")\n",
    "from nltk.corpus import stopwords"
   ]
  },
  {
   "cell_type": "markdown",
   "id": "35bddb11",
   "metadata": {},
   "source": [
    "### Load Data\n",
    "\n",
    "The csv file is stored in GitHub and will be read from there for easy access"
   ]
  },
  {
   "cell_type": "code",
   "execution_count": 2,
   "id": "a1aba0a4",
   "metadata": {},
   "outputs": [
    {
     "data": {
      "text/html": [
       "<div>\n",
       "<style scoped>\n",
       "    .dataframe tbody tr th:only-of-type {\n",
       "        vertical-align: middle;\n",
       "    }\n",
       "\n",
       "    .dataframe tbody tr th {\n",
       "        vertical-align: top;\n",
       "    }\n",
       "\n",
       "    .dataframe thead th {\n",
       "        text-align: right;\n",
       "    }\n",
       "</style>\n",
       "<table border=\"1\" class=\"dataframe\">\n",
       "  <thead>\n",
       "    <tr style=\"text-align: right;\">\n",
       "      <th></th>\n",
       "      <th>Review</th>\n",
       "      <th>Rating</th>\n",
       "    </tr>\n",
       "  </thead>\n",
       "  <tbody>\n",
       "    <tr>\n",
       "      <th>0</th>\n",
       "      <td>nice hotel expensive parking got good deal sta...</td>\n",
       "      <td>4</td>\n",
       "    </tr>\n",
       "    <tr>\n",
       "      <th>1</th>\n",
       "      <td>ok nothing special charge diamond member hilto...</td>\n",
       "      <td>2</td>\n",
       "    </tr>\n",
       "    <tr>\n",
       "      <th>2</th>\n",
       "      <td>nice rooms not 4* experience hotel monaco seat...</td>\n",
       "      <td>3</td>\n",
       "    </tr>\n",
       "    <tr>\n",
       "      <th>3</th>\n",
       "      <td>unique, great stay, wonderful time hotel monac...</td>\n",
       "      <td>5</td>\n",
       "    </tr>\n",
       "    <tr>\n",
       "      <th>4</th>\n",
       "      <td>great stay great stay, went seahawk game aweso...</td>\n",
       "      <td>5</td>\n",
       "    </tr>\n",
       "    <tr>\n",
       "      <th>5</th>\n",
       "      <td>love monaco staff husband stayed hotel crazy w...</td>\n",
       "      <td>5</td>\n",
       "    </tr>\n",
       "    <tr>\n",
       "      <th>6</th>\n",
       "      <td>cozy stay rainy city, husband spent 7 nights m...</td>\n",
       "      <td>5</td>\n",
       "    </tr>\n",
       "    <tr>\n",
       "      <th>7</th>\n",
       "      <td>excellent staff, housekeeping quality hotel ch...</td>\n",
       "      <td>4</td>\n",
       "    </tr>\n",
       "    <tr>\n",
       "      <th>8</th>\n",
       "      <td>hotel stayed hotel monaco cruise, rooms genero...</td>\n",
       "      <td>5</td>\n",
       "    </tr>\n",
       "    <tr>\n",
       "      <th>9</th>\n",
       "      <td>excellent stayed hotel monaco past w/e delight...</td>\n",
       "      <td>5</td>\n",
       "    </tr>\n",
       "  </tbody>\n",
       "</table>\n",
       "</div>"
      ],
      "text/plain": [
       "                                              Review  Rating\n",
       "0  nice hotel expensive parking got good deal sta...       4\n",
       "1  ok nothing special charge diamond member hilto...       2\n",
       "2  nice rooms not 4* experience hotel monaco seat...       3\n",
       "3  unique, great stay, wonderful time hotel monac...       5\n",
       "4  great stay great stay, went seahawk game aweso...       5\n",
       "5  love monaco staff husband stayed hotel crazy w...       5\n",
       "6  cozy stay rainy city, husband spent 7 nights m...       5\n",
       "7  excellent staff, housekeeping quality hotel ch...       4\n",
       "8  hotel stayed hotel monaco cruise, rooms genero...       5\n",
       "9  excellent stayed hotel monaco past w/e delight...       5"
      ]
     },
     "execution_count": 2,
     "metadata": {},
     "output_type": "execute_result"
    }
   ],
   "source": [
    "reviews = pd.read_csv(\"https://raw.githubusercontent.com/letisalba/Data-620/master/Week-12-15/tripadvisor_hotel_reviews.csv\", encoding='latin-1')\n",
    "reviews.head(10)"
   ]
  },
  {
   "cell_type": "code",
   "execution_count": null,
   "id": "5d7a3c09",
   "metadata": {},
   "outputs": [],
   "source": []
  },
  {
   "cell_type": "code",
   "execution_count": null,
   "id": "e1b0e6f9",
   "metadata": {},
   "outputs": [],
   "source": []
  },
  {
   "attachments": {},
   "cell_type": "markdown",
   "id": "fea53faf",
   "metadata": {},
   "source": [
    "### References:\n",
    "\n",
    "* LARXEL. (2020, September 30). Trip advisor hotel reviews. Kaggle. Retrieved April 27, 2023, from https://www.kaggle.com/datasets/andrewmvd/trip-advisor-hotel-reviews?resource=download"
   ]
  }
 ],
 "metadata": {
  "kernelspec": {
   "display_name": "Python 3 (ipykernel)",
   "language": "python",
   "name": "python3"
  },
  "language_info": {
   "codemirror_mode": {
    "name": "ipython",
    "version": 3
   },
   "file_extension": ".py",
   "mimetype": "text/x-python",
   "name": "python",
   "nbconvert_exporter": "python",
   "pygments_lexer": "ipython3",
   "version": "3.9.13"
  }
 },
 "nbformat": 4,
 "nbformat_minor": 5
}
