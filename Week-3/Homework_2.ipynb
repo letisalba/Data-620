{
 "cells": [
  {
   "cell_type": "markdown",
   "id": "d4a348f2",
   "metadata": {},
   "source": [
    "### Data 620 - Week 3: Assignment 2\n",
    "### Bikram Barua and Leticia Salazar\n",
    "### February 12, 2023"
   ]
  },
  {
   "cell_type": "markdown",
   "id": "88ab6c6a",
   "metadata": {},
   "source": [
    "#### Overview:\n",
    "\n",
    "This week's assignment is to:\n",
    "\n",
    "1. Load a graph database of your choosing from a text file or other source. If you take a large network dataset from the web (such as from Stanford Large Network Dataset Collection), please feel free at this point to load just a small subset of the nodes and edges.\n",
    "2. Create basic analysis on the graph, including the graph’s diameter, and at least one other metric of your choosing.  You may either code the functions by hand (to build your intuition and insight), or use functions in an existing package. \n",
    "3. Use NetworkX to visualize the data\n",
    "4. Please record a short video (~ 5 minutes), and submit a link to the video in advance of our meet-up."
   ]
  },
  {
   "cell_type": "markdown",
   "id": "ab5933fa",
   "metadata": {},
   "source": [
    "#### Data source:\n",
    "\n",
    "The dataset is a subset of authentication/authorization system for a web based business application. The dataset contains list of usernames with their corresponding employee Ids. The employees('Users') use the usernames as their login id as a part of the authentication process.\n",
    "\n",
    "The web application has multiple modules, whose access is controlled using the 'Groups'. The dataset contains the list of groups and a seperate mapping of the usernames with the group names which they are granted access as a function of the authorization process for the web application access control. "
   ]
  },
  {
   "cell_type": "markdown",
   "id": "86956f3b",
   "metadata": {},
   "source": [
    "##### Load libraries:"
   ]
  },
  {
   "cell_type": "code",
   "execution_count": 2,
   "id": "edf429e3",
   "metadata": {},
   "outputs": [],
   "source": [
    "# data manipulation\n",
    "import pandas as pd\n",
    "import numpy as np\n",
    "\n",
    "# data viz\n",
    "import networkx as nx\n",
    "import matplotlib.pyplot as plt\n",
    "from matplotlib import rcParams\n",
    "import seaborn as sns\n",
    "\n",
    "# apply some cool styling\n",
    "plt.style.use(\"ggplot\")\n",
    "rcParams['figure.figsize'] = (12, 6)"
   ]
  },
  {
   "cell_type": "markdown",
   "id": "6f967c97",
   "metadata": {},
   "source": [
    "##### Load the data:\n",
    "Data exploration of the data is performed below to view the size of the datasets we will be working with."
   ]
  },
  {
   "cell_type": "code",
   "execution_count": 3,
   "id": "771487ea",
   "metadata": {},
   "outputs": [
    {
     "name": "stdout",
     "output_type": "stream",
     "text": [
      "   username  userid\n",
      "0     aauto     295\n",
      "1       abc     277\n",
      "2  acommins     583\n",
      "3  advauto1     296\n",
      "4    alexey     580\n"
     ]
    }
   ],
   "source": [
    "users = \"https://raw.githubusercontent.com/letisalba/Data-620/master/Week-3/users.csv\"\n",
    "df_users = pd.read_csv(users)\n",
    "print(df_users.head(5))"
   ]
  },
  {
   "cell_type": "code",
   "execution_count": 4,
   "id": "13d78a65",
   "metadata": {},
   "outputs": [
    {
     "data": {
      "text/plain": [
       "(386, 2)"
      ]
     },
     "execution_count": 4,
     "metadata": {},
     "output_type": "execute_result"
    }
   ],
   "source": [
    "df_users.shape"
   ]
  },
  {
   "cell_type": "code",
   "execution_count": 5,
   "id": "023ba17a",
   "metadata": {},
   "outputs": [
    {
     "name": "stdout",
     "output_type": "stream",
     "text": [
      "   id           group_name\n",
      "0   1                ADMIN\n",
      "1   2                 USER\n",
      "2  15   Vehicle Visibility\n",
      "3  16       DFY Operations\n",
      "4  17  Document management\n"
     ]
    }
   ],
   "source": [
    "groups = \"https://raw.githubusercontent.com/letisalba/Data-620/master/Week-3/groups.csv\"\n",
    "df_groups = pd.read_csv(groups)\n",
    "print(df_groups.head(5))"
   ]
  },
  {
   "cell_type": "code",
   "execution_count": 6,
   "id": "0b539136",
   "metadata": {},
   "outputs": [
    {
     "data": {
      "text/plain": [
       "(26, 2)"
      ]
     },
     "execution_count": 6,
     "metadata": {},
     "output_type": "execute_result"
    }
   ],
   "source": [
    "df_groups.shape"
   ]
  },
  {
   "cell_type": "code",
   "execution_count": 7,
   "id": "ec3989c2",
   "metadata": {},
   "outputs": [
    {
     "name": "stdout",
     "output_type": "stream",
     "text": [
      "     id  username  group_id  tenant_id\n",
      "0  1810    smalla        38          1\n",
      "1  1807    bikram        38          1\n",
      "2  1809  gmspcmov        38          1\n",
      "3  1811  monlucha        38          1\n",
      "4  1816  krskucyk        38          1\n"
     ]
    }
   ],
   "source": [
    "group_members = \"https://raw.githubusercontent.com/letisalba/Data-620/master/Week-3/group_members.csv\"\n",
    "df_grp_mem = pd.read_csv(group_members)\n",
    "print(df_grp_mem.head(5))"
   ]
  },
  {
   "cell_type": "code",
   "execution_count": 8,
   "id": "992ea380",
   "metadata": {},
   "outputs": [
    {
     "data": {
      "text/plain": [
       "(1000, 4)"
      ]
     },
     "execution_count": 8,
     "metadata": {},
     "output_type": "execute_result"
    }
   ],
   "source": [
    "df_grp_mem.shape"
   ]
  },
  {
   "cell_type": "markdown",
   "id": "dc980ee4",
   "metadata": {},
   "source": [
    "##### Graph analysis:"
   ]
  },
  {
   "cell_type": "code",
   "execution_count": 11,
   "id": "f718d5b1",
   "metadata": {},
   "outputs": [],
   "source": [
    "from py2neo import Graph,Node,Relationship"
   ]
  },
  {
   "cell_type": "code",
   "execution_count": 17,
   "id": "51c7b55f",
   "metadata": {},
   "outputs": [],
   "source": [
    "graph = Graph(\"http://localhost:7474\", auth=(\"neo4j\", \"Data620/3\"))"
   ]
  },
  {
   "cell_type": "code",
   "execution_count": null,
   "id": "edf314fe",
   "metadata": {},
   "outputs": [],
   "source": []
  },
  {
   "cell_type": "code",
   "execution_count": null,
   "id": "566b8560",
   "metadata": {},
   "outputs": [],
   "source": []
  },
  {
   "cell_type": "markdown",
   "id": "7b3d34cc",
   "metadata": {},
   "source": [
    "##### Visualization of the data"
   ]
  },
  {
   "cell_type": "code",
   "execution_count": null,
   "id": "ea840f46",
   "metadata": {},
   "outputs": [],
   "source": []
  },
  {
   "cell_type": "code",
   "execution_count": null,
   "id": "cf36c3e4",
   "metadata": {},
   "outputs": [],
   "source": []
  }
 ],
 "metadata": {
  "kernelspec": {
   "display_name": "Python 3 (ipykernel)",
   "language": "python",
   "name": "python3"
  },
  "language_info": {
   "codemirror_mode": {
    "name": "ipython",
    "version": 3
   },
   "file_extension": ".py",
   "mimetype": "text/x-python",
   "name": "python",
   "nbconvert_exporter": "python",
   "pygments_lexer": "ipython3",
   "version": "3.9.13"
  }
 },
 "nbformat": 4,
 "nbformat_minor": 5
}
