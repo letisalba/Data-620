{
 "cells": [
  {
   "cell_type": "markdown",
   "id": "3cfe2160",
   "metadata": {},
   "source": [
    "### Data 620 - Week 10-11 Assignment \n",
    "### Leticia Salazar\n",
    "### April 2, 2023"
   ]
  },
  {
   "cell_type": "markdown",
   "id": "3f60f869",
   "metadata": {},
   "source": [
    "##### Task:\n",
    "\n",
    "It can be useful to be able to classify new \"test\" documents using already classified \"training\" documents.  A common example is using a corpus of labeled spam and ham (non-spam) e-mails to predict whether or not a new document is spam.  Here is one example of such data:  UCI Machine Learning Repository: Spambase Data Set.\n",
    "\n",
    "For this project, you can either use the above dataset to predict the class of new documents (either withheld from the training dataset or from another source such as your own spam folder).\n",
    "\n",
    "For more adventurous students, you are welcome (encouraged!) to come up a different set of documents (including scraped web pages!?) that have already been classified (e.g. tagged), then analyze these documents to predict how new documents should be classified."
   ]
  },
  {
   "cell_type": "markdown",
   "id": "6853649d",
   "metadata": {},
   "source": [
    "#### Dataset:\n",
    "\n",
    "The \"spam\" concept is diverse: advertisements for products/web sites, make money fast schemes, chain letters, pornography...\n",
    "\n",
    "Our collection of spam e-mails came from our postmaster and individuals who had filed spam. Our collection of non-spam e-mails came from filed work and personal e-mails, and hence the word 'george' and the area code '650' are indicators of non-spam. These are useful when constructing a personalized spam filter. One would either have to blind such non-spam indicators or get a very wide collection of non-spam to generate a general purpose spam filter.\n",
    "\n",
    "* Dataset characteristics: Multivariate\n",
    "* Attribute Characteristics: Integer, Real\n",
    "* Associated Tasks: Classification\n",
    "* Number of Instances: 4601\n",
    "* Number of Attributes: 57\n",
    "* Missing Values?: Yes\n",
    "* Area: Computer\n",
    "* Date Donated: 1999-07-01\n",
    "* Number of Web Hits: 736179\n",
    "\n",
    "\n",
    "#### Attribute Information:\n",
    "\n",
    "The last column of 'spambase.data' denotes whether the e-mail was considered spam (1) or not (0), i.e. unsolicited commercial e-mail. Most of the attributes indicate whether a particular word or character was frequently occuring in the e-mail. The run-length attributes (55-57) measure the length of sequences of consecutive capital letters. For the statistical measures of each attribute, see the end of this file. Here are the definitions of the attributes:\n",
    "\n",
    "* 48 continuous real [0,100] attributes of type word_freq_WORD = percentage of words in the e-mail that match WORD, i.e. 100 * (number of times the WORD appears in the e-mail) / total number of words in e-mail. A \"word\" in this case is any string of alphanumeric characters bounded by non-alphanumeric characters or end-of-string.\n",
    "\n",
    "\n",
    "* 6 continuous real [0,100] attributes of type char_freq_CHAR] = percentage of characters in the e-mail that match CHAR, i.e. 100 * (number of CHAR occurences) / total characters in e-mail\n",
    "\n",
    "\n",
    "* 1 continuous real [1,...] attribute of type capital_run_length_average = average length of uninterrupted sequences of capital letters\n",
    "\n",
    "\n",
    "* 1 continuous integer [1,...] attribute of type capital_run_length_longest = length of longest uninterrupted sequence of capital letters\n",
    "\n",
    "\n",
    "* 1 continuous integer [1,...] attribute of type capital_run_length_total = sum of length of uninterrupted sequences of capital letters = total number of capital letters in the e-mail\n",
    "\n",
    "\n",
    "* 1 nominal {0,1} class attribute of type spam = denotes whether the e-mail was considered spam (1) or not (0), i.e. unsolicited commercial e-mail."
   ]
  },
  {
   "cell_type": "markdown",
   "id": "49342608",
   "metadata": {},
   "source": [
    "#### Load Libraries"
   ]
  },
  {
   "cell_type": "code",
   "execution_count": 1,
   "id": "dfa29d46",
   "metadata": {},
   "outputs": [],
   "source": [
    "import warnings\n",
    "warnings.filterwarnings('ignore')\n",
    "\n",
    "import numpy as np\n",
    "import pandas as pd\n",
    "import matplotlib.pyplot as plt\n",
    "import nltk\n",
    "import csv"
   ]
  },
  {
   "cell_type": "markdown",
   "id": "b7046a20",
   "metadata": {},
   "source": [
    "#### Load Data"
   ]
  },
  {
   "cell_type": "code",
   "execution_count": 2,
   "id": "163bde27",
   "metadata": {},
   "outputs": [],
   "source": [
    "# import data files\n",
    "spam_data = 'spambase.data'\n",
    "spam_data_names = 'spambase.names'"
   ]
  },
  {
   "cell_type": "code",
   "execution_count": 3,
   "id": "912f27c2",
   "metadata": {},
   "outputs": [],
   "source": [
    "#read the `spambase.data` into a python list\n",
    "with open(spam_data,'rU') as f:\n",
    "    reader = csv.reader(f)\n",
    "    #for line in reader:\n",
    "    dataset = [line for line in reader]"
   ]
  },
  {
   "cell_type": "code",
   "execution_count": 4,
   "id": "98e39911",
   "metadata": {},
   "outputs": [],
   "source": [
    "#read the `spambase.names` into a python list\n",
    "with open(spam_data_names,'rU') as f:\n",
    "    reader = csv.reader(f, quoting = csv.QUOTE_NONE)\n",
    "    #for line in reader:\n",
    "    fieldnames = [ line[0].split(\":\",1)[0] for line in reader if len(line) > 0 and '|' not in line[0] and line[0][0] != '1' ]"
   ]
  },
  {
   "cell_type": "code",
   "execution_count": null,
   "id": "85f14108",
   "metadata": {},
   "outputs": [],
   "source": []
  }
 ],
 "metadata": {
  "kernelspec": {
   "display_name": "Python 3 (ipykernel)",
   "language": "python",
   "name": "python3"
  },
  "language_info": {
   "codemirror_mode": {
    "name": "ipython",
    "version": 3
   },
   "file_extension": ".py",
   "mimetype": "text/x-python",
   "name": "python",
   "nbconvert_exporter": "python",
   "pygments_lexer": "ipython3",
   "version": "3.9.13"
  }
 },
 "nbformat": 4,
 "nbformat_minor": 5
}
