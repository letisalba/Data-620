{
 "cells": [
  {
   "cell_type": "markdown",
   "id": "1c234c3a",
   "metadata": {},
   "source": [
    "### Data 620 - Week 10-11 Assignment \n",
    "### Leticia Salazar\n",
    "### April 2, 2023"
   ]
  },
  {
   "cell_type": "markdown",
   "id": "4b43f4e6",
   "metadata": {},
   "source": [
    "##### Task:\n",
    "\n",
    "It can be useful to be able to classify new \"test\" documents using already classified \"training\" documents.  A common example is using a corpus of labeled spam and ham (non-spam) e-mails to predict whether or not a new document is spam.  Here is one example of such data:  UCI Machine Learning Repository: Spambase Data Set.\n",
    "\n",
    "For this project, you can either use the above dataset to predict the class of new documents (either withheld from the training dataset or from another source such as your own spam folder).\n",
    "\n",
    "For more adventurous students, you are welcome (encouraged!) to come up a different set of documents (including scraped web pages!?) that have already been classified (e.g. tagged), then analyze these documents to predict how new documents should be classified."
   ]
  },
  {
   "cell_type": "markdown",
   "id": "0ac167a8",
   "metadata": {},
   "source": [
    "#### Dataset:\n",
    "\n",
    "The \"spam\" concept is diverse: advertisements for products/web sites, make money fast schemes, chain letters, pornography...\n",
    "\n",
    "Our collection of spam e-mails came from our postmaster and individuals who had filed spam. Our collection of non-spam e-mails came from filed work and personal e-mails, and hence the word 'george' and the area code '650' are indicators of non-spam. These are useful when constructing a personalized spam filter. One would either have to blind such non-spam indicators or get a very wide collection of non-spam to generate a general purpose spam filter.\n",
    "\n",
    "* Dataset characteristics: Multivariate\n",
    "* Attribute Characteristics: Integer, Real\n",
    "* Associated Tasks: Classification\n",
    "* Number of Instances: 4601\n",
    "* Number of Attributes: 57\n",
    "* Missing Values?: Yes\n",
    "* Area: Computer\n",
    "* Date Donated: 1999-07-01\n",
    "* Number of Web Hits: 736179"
   ]
  },
  {
   "cell_type": "code",
   "execution_count": null,
   "id": "b5a3634f",
   "metadata": {},
   "outputs": [],
   "source": []
  }
 ],
 "metadata": {
  "kernelspec": {
   "display_name": "Python 3 (ipykernel)",
   "language": "python",
   "name": "python3"
  },
  "language_info": {
   "codemirror_mode": {
    "name": "ipython",
    "version": 3
   },
   "file_extension": ".py",
   "mimetype": "text/x-python",
   "name": "python",
   "nbconvert_exporter": "python",
   "pygments_lexer": "ipython3",
   "version": "3.9.13"
  }
 },
 "nbformat": 4,
 "nbformat_minor": 5
}
